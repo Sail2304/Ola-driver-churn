{
 "cells": [
  {
   "cell_type": "code",
   "execution_count": 1,
   "metadata": {},
   "outputs": [],
   "source": [
    "import os"
   ]
  },
  {
   "cell_type": "code",
   "execution_count": 2,
   "metadata": {},
   "outputs": [
    {
     "data": {
      "text/plain": [
       "'d:\\\\Scaler Course\\\\OLACaseStudy\\\\Ola-driver-churn\\\\research'"
      ]
     },
     "execution_count": 2,
     "metadata": {},
     "output_type": "execute_result"
    }
   ],
   "source": [
    "%pwd"
   ]
  },
  {
   "cell_type": "code",
   "execution_count": 3,
   "metadata": {},
   "outputs": [],
   "source": [
    "os.chdir(\"../\")"
   ]
  },
  {
   "cell_type": "code",
   "execution_count": 19,
   "metadata": {},
   "outputs": [],
   "source": [
    "from dataclasses import dataclass\n",
    "from pathlib import Path\n",
    "\n",
    "@dataclass\n",
    "class ModelTrainerConfig:\n",
    "    root_dir: Path\n",
    "    train_data_path: Path\n",
    "    test_data_path: Path\n",
    "    model_name: str\n",
    "    model_score: Path\n",
    "    learning_rate: list\n",
    "    max_depth: list\n",
    "    max_features: list\n",
    "    min_samples_leaf: list\n",
    "    min_samples_split: list \n",
    "    n_estimators: list\n",
    "    target_column: str\n",
    "    \n"
   ]
  },
  {
   "cell_type": "code",
   "execution_count": 24,
   "metadata": {},
   "outputs": [],
   "source": [
    "from src.OLAChurnPred.constants import *\n",
    "from src.OLAChurnPred.utils.common import read_yaml, create_directories\n",
    "class ConfigurationManager:\n",
    "    def __init__(self,\n",
    "                 config_filepath=CONFIG_FILE_PATH,\n",
    "                 params_filepath=PARAMS_FILE_PATH,\n",
    "                 schema_filepath = SCHEMA_FILE_PATH):\n",
    "        \n",
    "        self.config=read_yaml(config_filepath)\n",
    "        self.params = read_yaml(params_filepath)\n",
    "        self.schema = read_yaml(schema_filepath)\n",
    "\n",
    "        create_directories([self.config.artifacts_root])\n",
    "\n",
    "    def get_model_trainer_config(self) -> ModelTrainerConfig:\n",
    "        config = self.config.model_trainer\n",
    "        params = self.params.Model_Params\n",
    "        schema = self.schema.TARGET_COLUMN\n",
    "\n",
    "        create_directories([config.root_dir])\n",
    "\n",
    "        model_trainer_config = ModelTrainerConfig(\n",
    "            root_dir=config.root_dir,\n",
    "            train_data_path=config.train_data_path,\n",
    "            test_data_path=config.test_data_path,\n",
    "            model_name=config.model_name,\n",
    "            model_score=config.model_score,\n",
    "            learning_rate=params.learning_rate,\n",
    "            max_depth=params.max_depth,\n",
    "            max_features=params.max_features,\n",
    "            min_samples_leaf=params.min_samples_leaf,\n",
    "            min_samples_split=params.min_samples_split,\n",
    "            n_estimators=params.n_estimators,\n",
    "            target_column=schema.name\n",
    "\n",
    "        )\n",
    "        return model_trainer_config"
   ]
  },
  {
   "cell_type": "code",
   "execution_count": 34,
   "metadata": {},
   "outputs": [],
   "source": [
    "import os\n",
    "from src.OLAChurnPred import logger\n",
    "import pandas as pd\n",
    "from sklearn.model_selection import RandomizedSearchCV\n",
    "from sklearn.ensemble import GradientBoostingClassifier\n",
    "from src.OLAChurnPred.utils.common import save_bin\n",
    "import joblib\n",
    "\n",
    "\n",
    "class ModelTrainer:\n",
    "    def __init__(self, config: ModelTrainerConfig):\n",
    "        self.config=config\n",
    "\n",
    "    def train(self):\n",
    "        train_data = pd.read_csv(self.config.train_data_path)\n",
    "        test_data = pd.read_csv(self.config.test_data_path)\n",
    "\n",
    "        X_train = train_data.drop(columns=[self.config.target_column])\n",
    "        y_train = train_data[self.config.target_column]\n",
    "        \n",
    "        X_test = test_data.drop(columns=[self.config.target_column])\n",
    "        y_test = test_data[self.config.target_column]\n",
    "        random_grid = {\n",
    "               'n_estimators': self.config.n_estimators,\n",
    "               'max_features': [None,'sqrt'],\n",
    "               'max_depth': self.config.max_depth,\n",
    "               'min_samples_split': self.config.min_samples_split,\n",
    "               'min_samples_leaf': self.config.min_samples_leaf,\n",
    "               'learning_rate': self.config.learning_rate\n",
    "               }\n",
    "        \n",
    "        gbc = GradientBoostingClassifier()\n",
    "        gbc_randomcv = RandomizedSearchCV(\n",
    "                                        estimator=gbc,\n",
    "                                        param_distributions=random_grid,\n",
    "                                        n_iter=100,\n",
    "                                        cv=4,\n",
    "                                        random_state=41, \n",
    "                                        n_jobs = -1,\n",
    "                                        verbose=3,error_score='raise'\n",
    "                                        )\n",
    "        \n",
    "        gbc_randomcv.fit(X_train,y_train)\n",
    "        print(gbc_randomcv.best_score_)\n",
    "        print(gbc_randomcv.best_params_)\n",
    "        with open(os.path.join(self.config.model_score),'w') as f:\n",
    "            f.write('Best model score is: {gbc_randomcv.best_score_}')\n",
    "            f.write('Best model parameters are: {gbc_randomcv.best_params_}')\n",
    "\n",
    "        \n",
    "        \n",
    "        joblib.dump(gbc_randomcv.best_estimator_, os.path.join(self.config.root_dir, self.config.model_name))\n",
    "\n",
    "\n",
    "        \n",
    "\n",
    "\n",
    "\n",
    "\n",
    "\n",
    "    "
   ]
  },
  {
   "cell_type": "code",
   "execution_count": 35,
   "metadata": {},
   "outputs": [
    {
     "name": "stdout",
     "output_type": "stream",
     "text": [
      "[2024-12-12 17:15:30,885: INFO: common: yaml file: config\\config.yaml loaded successfully]\n",
      "[2024-12-12 17:15:30,889: INFO: common: yaml file: params.yaml loaded successfully]\n",
      "[2024-12-12 17:15:30,891: INFO: common: yaml file: schema.yaml loaded successfully]\n",
      "[2024-12-12 17:15:30,892: INFO: common: created directory at: artifacts]\n",
      "[2024-12-12 17:15:30,893: INFO: common: created directory at: artifacts/model_trainer]\n",
      "Fitting 4 folds for each of 100 candidates, totalling 400 fits\n",
      "0.5640756302521008\n",
      "{'n_estimators': 200, 'min_samples_split': 5, 'min_samples_leaf': 4, 'max_features': 'sqrt', 'max_depth': 2, 'learning_rate': 0.01}\n"
     ]
    }
   ],
   "source": [
    "try:\n",
    "    config = ConfigurationManager()\n",
    "    model_trainer_config = config.get_model_trainer_config()\n",
    "    moderl_trainer = ModelTrainer(config=model_trainer_config)\n",
    "    moderl_trainer.train()\n",
    "except Exception as e:\n",
    "    raise e"
   ]
  },
  {
   "cell_type": "code",
   "execution_count": null,
   "metadata": {},
   "outputs": [],
   "source": []
  }
 ],
 "metadata": {
  "kernelspec": {
   "display_name": "venv",
   "language": "python",
   "name": "python3"
  },
  "language_info": {
   "codemirror_mode": {
    "name": "ipython",
    "version": 3
   },
   "file_extension": ".py",
   "mimetype": "text/x-python",
   "name": "python",
   "nbconvert_exporter": "python",
   "pygments_lexer": "ipython3",
   "version": "3.10.5"
  }
 },
 "nbformat": 4,
 "nbformat_minor": 2
}

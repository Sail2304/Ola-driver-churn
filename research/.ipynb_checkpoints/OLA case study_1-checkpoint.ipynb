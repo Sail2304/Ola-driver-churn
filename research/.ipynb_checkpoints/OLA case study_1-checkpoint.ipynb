{
 "cells": [
  {
   "cell_type": "markdown",
   "id": "2548e159",
   "metadata": {},
   "source": [
    "# OLA case Study"
   ]
  },
  {
   "cell_type": "markdown",
   "id": "03cb4c06",
   "metadata": {},
   "source": [
    "### Problem Statement:\n",
    "Recruiting and retaining drivers is seen by industry watchers as a tough battle for Ola. Churn among drivers is high and it’s very easy for drivers to stop working for the service on the fly or jump to Uber depending on the rates.\n",
    "\n",
    "As the companies get bigger, the high churn could become a bigger problem. To find new drivers, Ola is casting a wide net, including people who don’t have cars for jobs. But this acquisition is really costly. Losing drivers frequently impacts the morale of the organization and acquiring new drivers is more expensive than retaining existing ones.\n",
    "\n",
    "You are working as a data scientist with the Analytics Department of Ola, focused on driver team attrition. You are provided with the monthly information for a segment of drivers for 2019 and 2020 and tasked to predict whether a driver will be leaving the company or not"
   ]
  },
  {
   "cell_type": "code",
   "execution_count": 2,
   "id": "ef03d706",
   "metadata": {},
   "outputs": [],
   "source": [
    "import pandas as pd\n",
    "import numpy as np\n",
    "from matplotlib import pyplot as plt\n",
    "import seaborn as sns\n",
    "from sklearn.preprocessing import MinMaxScaler\n",
    "from sklearn.impute import KNNImputer\n",
    "from sklearn.preprocessing import LabelEncoder\n",
    "from sklearn.ensemble import RandomForestClassifier,GradientBoostingClassifier\n",
    "from sklearn.model_selection import train_test_split,RandomizedSearchCV\n",
    "from sklearn.metrics import (confusion_matrix,precision_recall_curve,roc_curve,accuracy_score,classification_report,\n",
    "                           RocCurveDisplay, PrecisionRecallDisplay,ConfusionMatrixDisplay)"
   ]
  },
  {
   "cell_type": "code",
   "execution_count": 4,
   "id": "42552686",
   "metadata": {},
   "outputs": [
    {
     "ename": "FileNotFoundError",
     "evalue": "[Errno 2] No such file or directory: '/artifacts/data_ingestion/OLA_drivers.csv'",
     "output_type": "error",
     "traceback": [
      "\u001b[1;31m---------------------------------------------------------------------------\u001b[0m",
      "\u001b[1;31mFileNotFoundError\u001b[0m                         Traceback (most recent call last)",
      "Input \u001b[1;32mIn [4]\u001b[0m, in \u001b[0;36m<cell line: 2>\u001b[1;34m()\u001b[0m\n\u001b[0;32m      1\u001b[0m \u001b[38;5;66;03m## import data from csv file\u001b[39;00m\n\u001b[1;32m----> 2\u001b[0m data \u001b[38;5;241m=\u001b[39m \u001b[43mpd\u001b[49m\u001b[38;5;241;43m.\u001b[39;49m\u001b[43mread_csv\u001b[49m\u001b[43m(\u001b[49m\u001b[38;5;124;43m\"\u001b[39;49m\u001b[38;5;124;43m/artifacts/data_ingestion/OLA_drivers.csv\u001b[39;49m\u001b[38;5;124;43m\"\u001b[39;49m\u001b[43m)\u001b[49m\n",
      "File \u001b[1;32m~\\AppData\\Local\\Programs\\Python\\Python310\\lib\\site-packages\\pandas\\util\\_decorators.py:311\u001b[0m, in \u001b[0;36mdeprecate_nonkeyword_arguments.<locals>.decorate.<locals>.wrapper\u001b[1;34m(*args, **kwargs)\u001b[0m\n\u001b[0;32m    305\u001b[0m \u001b[38;5;28;01mif\u001b[39;00m \u001b[38;5;28mlen\u001b[39m(args) \u001b[38;5;241m>\u001b[39m num_allow_args:\n\u001b[0;32m    306\u001b[0m     warnings\u001b[38;5;241m.\u001b[39mwarn(\n\u001b[0;32m    307\u001b[0m         msg\u001b[38;5;241m.\u001b[39mformat(arguments\u001b[38;5;241m=\u001b[39marguments),\n\u001b[0;32m    308\u001b[0m         \u001b[38;5;167;01mFutureWarning\u001b[39;00m,\n\u001b[0;32m    309\u001b[0m         stacklevel\u001b[38;5;241m=\u001b[39mstacklevel,\n\u001b[0;32m    310\u001b[0m     )\n\u001b[1;32m--> 311\u001b[0m \u001b[38;5;28;01mreturn\u001b[39;00m func(\u001b[38;5;241m*\u001b[39margs, \u001b[38;5;241m*\u001b[39m\u001b[38;5;241m*\u001b[39mkwargs)\n",
      "File \u001b[1;32m~\\AppData\\Local\\Programs\\Python\\Python310\\lib\\site-packages\\pandas\\io\\parsers\\readers.py:680\u001b[0m, in \u001b[0;36mread_csv\u001b[1;34m(filepath_or_buffer, sep, delimiter, header, names, index_col, usecols, squeeze, prefix, mangle_dupe_cols, dtype, engine, converters, true_values, false_values, skipinitialspace, skiprows, skipfooter, nrows, na_values, keep_default_na, na_filter, verbose, skip_blank_lines, parse_dates, infer_datetime_format, keep_date_col, date_parser, dayfirst, cache_dates, iterator, chunksize, compression, thousands, decimal, lineterminator, quotechar, quoting, doublequote, escapechar, comment, encoding, encoding_errors, dialect, error_bad_lines, warn_bad_lines, on_bad_lines, delim_whitespace, low_memory, memory_map, float_precision, storage_options)\u001b[0m\n\u001b[0;32m    665\u001b[0m kwds_defaults \u001b[38;5;241m=\u001b[39m _refine_defaults_read(\n\u001b[0;32m    666\u001b[0m     dialect,\n\u001b[0;32m    667\u001b[0m     delimiter,\n\u001b[1;32m   (...)\u001b[0m\n\u001b[0;32m    676\u001b[0m     defaults\u001b[38;5;241m=\u001b[39m{\u001b[38;5;124m\"\u001b[39m\u001b[38;5;124mdelimiter\u001b[39m\u001b[38;5;124m\"\u001b[39m: \u001b[38;5;124m\"\u001b[39m\u001b[38;5;124m,\u001b[39m\u001b[38;5;124m\"\u001b[39m},\n\u001b[0;32m    677\u001b[0m )\n\u001b[0;32m    678\u001b[0m kwds\u001b[38;5;241m.\u001b[39mupdate(kwds_defaults)\n\u001b[1;32m--> 680\u001b[0m \u001b[38;5;28;01mreturn\u001b[39;00m \u001b[43m_read\u001b[49m\u001b[43m(\u001b[49m\u001b[43mfilepath_or_buffer\u001b[49m\u001b[43m,\u001b[49m\u001b[43m \u001b[49m\u001b[43mkwds\u001b[49m\u001b[43m)\u001b[49m\n",
      "File \u001b[1;32m~\\AppData\\Local\\Programs\\Python\\Python310\\lib\\site-packages\\pandas\\io\\parsers\\readers.py:575\u001b[0m, in \u001b[0;36m_read\u001b[1;34m(filepath_or_buffer, kwds)\u001b[0m\n\u001b[0;32m    572\u001b[0m _validate_names(kwds\u001b[38;5;241m.\u001b[39mget(\u001b[38;5;124m\"\u001b[39m\u001b[38;5;124mnames\u001b[39m\u001b[38;5;124m\"\u001b[39m, \u001b[38;5;28;01mNone\u001b[39;00m))\n\u001b[0;32m    574\u001b[0m \u001b[38;5;66;03m# Create the parser.\u001b[39;00m\n\u001b[1;32m--> 575\u001b[0m parser \u001b[38;5;241m=\u001b[39m TextFileReader(filepath_or_buffer, \u001b[38;5;241m*\u001b[39m\u001b[38;5;241m*\u001b[39mkwds)\n\u001b[0;32m    577\u001b[0m \u001b[38;5;28;01mif\u001b[39;00m chunksize \u001b[38;5;129;01mor\u001b[39;00m iterator:\n\u001b[0;32m    578\u001b[0m     \u001b[38;5;28;01mreturn\u001b[39;00m parser\n",
      "File \u001b[1;32m~\\AppData\\Local\\Programs\\Python\\Python310\\lib\\site-packages\\pandas\\io\\parsers\\readers.py:933\u001b[0m, in \u001b[0;36mTextFileReader.__init__\u001b[1;34m(self, f, engine, **kwds)\u001b[0m\n\u001b[0;32m    930\u001b[0m     \u001b[38;5;28mself\u001b[39m\u001b[38;5;241m.\u001b[39moptions[\u001b[38;5;124m\"\u001b[39m\u001b[38;5;124mhas_index_names\u001b[39m\u001b[38;5;124m\"\u001b[39m] \u001b[38;5;241m=\u001b[39m kwds[\u001b[38;5;124m\"\u001b[39m\u001b[38;5;124mhas_index_names\u001b[39m\u001b[38;5;124m\"\u001b[39m]\n\u001b[0;32m    932\u001b[0m \u001b[38;5;28mself\u001b[39m\u001b[38;5;241m.\u001b[39mhandles: IOHandles \u001b[38;5;241m|\u001b[39m \u001b[38;5;28;01mNone\u001b[39;00m \u001b[38;5;241m=\u001b[39m \u001b[38;5;28;01mNone\u001b[39;00m\n\u001b[1;32m--> 933\u001b[0m \u001b[38;5;28mself\u001b[39m\u001b[38;5;241m.\u001b[39m_engine \u001b[38;5;241m=\u001b[39m \u001b[38;5;28;43mself\u001b[39;49m\u001b[38;5;241;43m.\u001b[39;49m\u001b[43m_make_engine\u001b[49m\u001b[43m(\u001b[49m\u001b[43mf\u001b[49m\u001b[43m,\u001b[49m\u001b[43m \u001b[49m\u001b[38;5;28;43mself\u001b[39;49m\u001b[38;5;241;43m.\u001b[39;49m\u001b[43mengine\u001b[49m\u001b[43m)\u001b[49m\n",
      "File \u001b[1;32m~\\AppData\\Local\\Programs\\Python\\Python310\\lib\\site-packages\\pandas\\io\\parsers\\readers.py:1217\u001b[0m, in \u001b[0;36mTextFileReader._make_engine\u001b[1;34m(self, f, engine)\u001b[0m\n\u001b[0;32m   1213\u001b[0m     mode \u001b[38;5;241m=\u001b[39m \u001b[38;5;124m\"\u001b[39m\u001b[38;5;124mrb\u001b[39m\u001b[38;5;124m\"\u001b[39m\n\u001b[0;32m   1214\u001b[0m \u001b[38;5;66;03m# error: No overload variant of \"get_handle\" matches argument types\u001b[39;00m\n\u001b[0;32m   1215\u001b[0m \u001b[38;5;66;03m# \"Union[str, PathLike[str], ReadCsvBuffer[bytes], ReadCsvBuffer[str]]\"\u001b[39;00m\n\u001b[0;32m   1216\u001b[0m \u001b[38;5;66;03m# , \"str\", \"bool\", \"Any\", \"Any\", \"Any\", \"Any\", \"Any\"\u001b[39;00m\n\u001b[1;32m-> 1217\u001b[0m \u001b[38;5;28mself\u001b[39m\u001b[38;5;241m.\u001b[39mhandles \u001b[38;5;241m=\u001b[39m \u001b[43mget_handle\u001b[49m\u001b[43m(\u001b[49m\u001b[43m  \u001b[49m\u001b[38;5;66;43;03m# type: ignore[call-overload]\u001b[39;49;00m\n\u001b[0;32m   1218\u001b[0m \u001b[43m    \u001b[49m\u001b[43mf\u001b[49m\u001b[43m,\u001b[49m\n\u001b[0;32m   1219\u001b[0m \u001b[43m    \u001b[49m\u001b[43mmode\u001b[49m\u001b[43m,\u001b[49m\n\u001b[0;32m   1220\u001b[0m \u001b[43m    \u001b[49m\u001b[43mencoding\u001b[49m\u001b[38;5;241;43m=\u001b[39;49m\u001b[38;5;28;43mself\u001b[39;49m\u001b[38;5;241;43m.\u001b[39;49m\u001b[43moptions\u001b[49m\u001b[38;5;241;43m.\u001b[39;49m\u001b[43mget\u001b[49m\u001b[43m(\u001b[49m\u001b[38;5;124;43m\"\u001b[39;49m\u001b[38;5;124;43mencoding\u001b[39;49m\u001b[38;5;124;43m\"\u001b[39;49m\u001b[43m,\u001b[49m\u001b[43m \u001b[49m\u001b[38;5;28;43;01mNone\u001b[39;49;00m\u001b[43m)\u001b[49m\u001b[43m,\u001b[49m\n\u001b[0;32m   1221\u001b[0m \u001b[43m    \u001b[49m\u001b[43mcompression\u001b[49m\u001b[38;5;241;43m=\u001b[39;49m\u001b[38;5;28;43mself\u001b[39;49m\u001b[38;5;241;43m.\u001b[39;49m\u001b[43moptions\u001b[49m\u001b[38;5;241;43m.\u001b[39;49m\u001b[43mget\u001b[49m\u001b[43m(\u001b[49m\u001b[38;5;124;43m\"\u001b[39;49m\u001b[38;5;124;43mcompression\u001b[39;49m\u001b[38;5;124;43m\"\u001b[39;49m\u001b[43m,\u001b[49m\u001b[43m \u001b[49m\u001b[38;5;28;43;01mNone\u001b[39;49;00m\u001b[43m)\u001b[49m\u001b[43m,\u001b[49m\n\u001b[0;32m   1222\u001b[0m \u001b[43m    \u001b[49m\u001b[43mmemory_map\u001b[49m\u001b[38;5;241;43m=\u001b[39;49m\u001b[38;5;28;43mself\u001b[39;49m\u001b[38;5;241;43m.\u001b[39;49m\u001b[43moptions\u001b[49m\u001b[38;5;241;43m.\u001b[39;49m\u001b[43mget\u001b[49m\u001b[43m(\u001b[49m\u001b[38;5;124;43m\"\u001b[39;49m\u001b[38;5;124;43mmemory_map\u001b[39;49m\u001b[38;5;124;43m\"\u001b[39;49m\u001b[43m,\u001b[49m\u001b[43m \u001b[49m\u001b[38;5;28;43;01mFalse\u001b[39;49;00m\u001b[43m)\u001b[49m\u001b[43m,\u001b[49m\n\u001b[0;32m   1223\u001b[0m \u001b[43m    \u001b[49m\u001b[43mis_text\u001b[49m\u001b[38;5;241;43m=\u001b[39;49m\u001b[43mis_text\u001b[49m\u001b[43m,\u001b[49m\n\u001b[0;32m   1224\u001b[0m \u001b[43m    \u001b[49m\u001b[43merrors\u001b[49m\u001b[38;5;241;43m=\u001b[39;49m\u001b[38;5;28;43mself\u001b[39;49m\u001b[38;5;241;43m.\u001b[39;49m\u001b[43moptions\u001b[49m\u001b[38;5;241;43m.\u001b[39;49m\u001b[43mget\u001b[49m\u001b[43m(\u001b[49m\u001b[38;5;124;43m\"\u001b[39;49m\u001b[38;5;124;43mencoding_errors\u001b[39;49m\u001b[38;5;124;43m\"\u001b[39;49m\u001b[43m,\u001b[49m\u001b[43m \u001b[49m\u001b[38;5;124;43m\"\u001b[39;49m\u001b[38;5;124;43mstrict\u001b[39;49m\u001b[38;5;124;43m\"\u001b[39;49m\u001b[43m)\u001b[49m\u001b[43m,\u001b[49m\n\u001b[0;32m   1225\u001b[0m \u001b[43m    \u001b[49m\u001b[43mstorage_options\u001b[49m\u001b[38;5;241;43m=\u001b[39;49m\u001b[38;5;28;43mself\u001b[39;49m\u001b[38;5;241;43m.\u001b[39;49m\u001b[43moptions\u001b[49m\u001b[38;5;241;43m.\u001b[39;49m\u001b[43mget\u001b[49m\u001b[43m(\u001b[49m\u001b[38;5;124;43m\"\u001b[39;49m\u001b[38;5;124;43mstorage_options\u001b[39;49m\u001b[38;5;124;43m\"\u001b[39;49m\u001b[43m,\u001b[49m\u001b[43m \u001b[49m\u001b[38;5;28;43;01mNone\u001b[39;49;00m\u001b[43m)\u001b[49m\u001b[43m,\u001b[49m\n\u001b[0;32m   1226\u001b[0m \u001b[43m\u001b[49m\u001b[43m)\u001b[49m\n\u001b[0;32m   1227\u001b[0m \u001b[38;5;28;01massert\u001b[39;00m \u001b[38;5;28mself\u001b[39m\u001b[38;5;241m.\u001b[39mhandles \u001b[38;5;129;01mis\u001b[39;00m \u001b[38;5;129;01mnot\u001b[39;00m \u001b[38;5;28;01mNone\u001b[39;00m\n\u001b[0;32m   1228\u001b[0m f \u001b[38;5;241m=\u001b[39m \u001b[38;5;28mself\u001b[39m\u001b[38;5;241m.\u001b[39mhandles\u001b[38;5;241m.\u001b[39mhandle\n",
      "File \u001b[1;32m~\\AppData\\Local\\Programs\\Python\\Python310\\lib\\site-packages\\pandas\\io\\common.py:789\u001b[0m, in \u001b[0;36mget_handle\u001b[1;34m(path_or_buf, mode, encoding, compression, memory_map, is_text, errors, storage_options)\u001b[0m\n\u001b[0;32m    784\u001b[0m \u001b[38;5;28;01melif\u001b[39;00m \u001b[38;5;28misinstance\u001b[39m(handle, \u001b[38;5;28mstr\u001b[39m):\n\u001b[0;32m    785\u001b[0m     \u001b[38;5;66;03m# Check whether the filename is to be opened in binary mode.\u001b[39;00m\n\u001b[0;32m    786\u001b[0m     \u001b[38;5;66;03m# Binary mode does not support 'encoding' and 'newline'.\u001b[39;00m\n\u001b[0;32m    787\u001b[0m     \u001b[38;5;28;01mif\u001b[39;00m ioargs\u001b[38;5;241m.\u001b[39mencoding \u001b[38;5;129;01mand\u001b[39;00m \u001b[38;5;124m\"\u001b[39m\u001b[38;5;124mb\u001b[39m\u001b[38;5;124m\"\u001b[39m \u001b[38;5;129;01mnot\u001b[39;00m \u001b[38;5;129;01min\u001b[39;00m ioargs\u001b[38;5;241m.\u001b[39mmode:\n\u001b[0;32m    788\u001b[0m         \u001b[38;5;66;03m# Encoding\u001b[39;00m\n\u001b[1;32m--> 789\u001b[0m         handle \u001b[38;5;241m=\u001b[39m \u001b[38;5;28;43mopen\u001b[39;49m\u001b[43m(\u001b[49m\n\u001b[0;32m    790\u001b[0m \u001b[43m            \u001b[49m\u001b[43mhandle\u001b[49m\u001b[43m,\u001b[49m\n\u001b[0;32m    791\u001b[0m \u001b[43m            \u001b[49m\u001b[43mioargs\u001b[49m\u001b[38;5;241;43m.\u001b[39;49m\u001b[43mmode\u001b[49m\u001b[43m,\u001b[49m\n\u001b[0;32m    792\u001b[0m \u001b[43m            \u001b[49m\u001b[43mencoding\u001b[49m\u001b[38;5;241;43m=\u001b[39;49m\u001b[43mioargs\u001b[49m\u001b[38;5;241;43m.\u001b[39;49m\u001b[43mencoding\u001b[49m\u001b[43m,\u001b[49m\n\u001b[0;32m    793\u001b[0m \u001b[43m            \u001b[49m\u001b[43merrors\u001b[49m\u001b[38;5;241;43m=\u001b[39;49m\u001b[43merrors\u001b[49m\u001b[43m,\u001b[49m\n\u001b[0;32m    794\u001b[0m \u001b[43m            \u001b[49m\u001b[43mnewline\u001b[49m\u001b[38;5;241;43m=\u001b[39;49m\u001b[38;5;124;43m\"\u001b[39;49m\u001b[38;5;124;43m\"\u001b[39;49m\u001b[43m,\u001b[49m\n\u001b[0;32m    795\u001b[0m \u001b[43m        \u001b[49m\u001b[43m)\u001b[49m\n\u001b[0;32m    796\u001b[0m     \u001b[38;5;28;01melse\u001b[39;00m:\n\u001b[0;32m    797\u001b[0m         \u001b[38;5;66;03m# Binary mode\u001b[39;00m\n\u001b[0;32m    798\u001b[0m         handle \u001b[38;5;241m=\u001b[39m \u001b[38;5;28mopen\u001b[39m(handle, ioargs\u001b[38;5;241m.\u001b[39mmode)\n",
      "\u001b[1;31mFileNotFoundError\u001b[0m: [Errno 2] No such file or directory: '/artifacts/data_ingestion/OLA_drivers.csv'"
     ]
    }
   ],
   "source": [
    "## import data from csv file\n",
    "data = pd.read_csv(\"/artifacts/data_ingestion/OLA_drivers.csv\")"
   ]
  },
  {
   "cell_type": "code",
   "execution_count": 3,
   "id": "c2d99fc1",
   "metadata": {},
   "outputs": [
    {
     "data": {
      "text/html": [
       "<div>\n",
       "<style scoped>\n",
       "    .dataframe tbody tr th:only-of-type {\n",
       "        vertical-align: middle;\n",
       "    }\n",
       "\n",
       "    .dataframe tbody tr th {\n",
       "        vertical-align: top;\n",
       "    }\n",
       "\n",
       "    .dataframe thead th {\n",
       "        text-align: right;\n",
       "    }\n",
       "</style>\n",
       "<table border=\"1\" class=\"dataframe\">\n",
       "  <thead>\n",
       "    <tr style=\"text-align: right;\">\n",
       "      <th></th>\n",
       "      <th>Sr</th>\n",
       "      <th>MMM-YY</th>\n",
       "      <th>Driver_ID</th>\n",
       "      <th>Age</th>\n",
       "      <th>Gender</th>\n",
       "      <th>City</th>\n",
       "      <th>Education_Level</th>\n",
       "      <th>Income</th>\n",
       "      <th>Dateofjoining</th>\n",
       "      <th>LastWorkingDate</th>\n",
       "      <th>Joining Designation</th>\n",
       "      <th>Grade</th>\n",
       "      <th>Total Business Value</th>\n",
       "      <th>Quarterly Rating</th>\n",
       "    </tr>\n",
       "  </thead>\n",
       "  <tbody>\n",
       "    <tr>\n",
       "      <th>0</th>\n",
       "      <td>0</td>\n",
       "      <td>01/01/19</td>\n",
       "      <td>1</td>\n",
       "      <td>28.0</td>\n",
       "      <td>0.0</td>\n",
       "      <td>C23</td>\n",
       "      <td>2</td>\n",
       "      <td>57387</td>\n",
       "      <td>24/12/18</td>\n",
       "      <td>NaN</td>\n",
       "      <td>1</td>\n",
       "      <td>1</td>\n",
       "      <td>2381060</td>\n",
       "      <td>2</td>\n",
       "    </tr>\n",
       "    <tr>\n",
       "      <th>1</th>\n",
       "      <td>1</td>\n",
       "      <td>02/01/19</td>\n",
       "      <td>1</td>\n",
       "      <td>28.0</td>\n",
       "      <td>0.0</td>\n",
       "      <td>C23</td>\n",
       "      <td>2</td>\n",
       "      <td>57387</td>\n",
       "      <td>24/12/18</td>\n",
       "      <td>NaN</td>\n",
       "      <td>1</td>\n",
       "      <td>1</td>\n",
       "      <td>-665480</td>\n",
       "      <td>2</td>\n",
       "    </tr>\n",
       "    <tr>\n",
       "      <th>2</th>\n",
       "      <td>2</td>\n",
       "      <td>03/01/19</td>\n",
       "      <td>1</td>\n",
       "      <td>28.0</td>\n",
       "      <td>0.0</td>\n",
       "      <td>C23</td>\n",
       "      <td>2</td>\n",
       "      <td>57387</td>\n",
       "      <td>24/12/18</td>\n",
       "      <td>03/11/19</td>\n",
       "      <td>1</td>\n",
       "      <td>1</td>\n",
       "      <td>0</td>\n",
       "      <td>2</td>\n",
       "    </tr>\n",
       "    <tr>\n",
       "      <th>3</th>\n",
       "      <td>3</td>\n",
       "      <td>11/01/20</td>\n",
       "      <td>2</td>\n",
       "      <td>31.0</td>\n",
       "      <td>0.0</td>\n",
       "      <td>C7</td>\n",
       "      <td>2</td>\n",
       "      <td>67016</td>\n",
       "      <td>11/06/20</td>\n",
       "      <td>NaN</td>\n",
       "      <td>2</td>\n",
       "      <td>2</td>\n",
       "      <td>0</td>\n",
       "      <td>1</td>\n",
       "    </tr>\n",
       "    <tr>\n",
       "      <th>4</th>\n",
       "      <td>4</td>\n",
       "      <td>12/01/20</td>\n",
       "      <td>2</td>\n",
       "      <td>31.0</td>\n",
       "      <td>0.0</td>\n",
       "      <td>C7</td>\n",
       "      <td>2</td>\n",
       "      <td>67016</td>\n",
       "      <td>11/06/20</td>\n",
       "      <td>NaN</td>\n",
       "      <td>2</td>\n",
       "      <td>2</td>\n",
       "      <td>0</td>\n",
       "      <td>1</td>\n",
       "    </tr>\n",
       "  </tbody>\n",
       "</table>\n",
       "</div>"
      ],
      "text/plain": [
       "   Sr    MMM-YY  Driver_ID   Age  Gender City  Education_Level  Income  \\\n",
       "0   0  01/01/19          1  28.0     0.0  C23                2   57387   \n",
       "1   1  02/01/19          1  28.0     0.0  C23                2   57387   \n",
       "2   2  03/01/19          1  28.0     0.0  C23                2   57387   \n",
       "3   3  11/01/20          2  31.0     0.0   C7                2   67016   \n",
       "4   4  12/01/20          2  31.0     0.0   C7                2   67016   \n",
       "\n",
       "  Dateofjoining LastWorkingDate  Joining Designation  Grade  \\\n",
       "0      24/12/18             NaN                    1      1   \n",
       "1      24/12/18             NaN                    1      1   \n",
       "2      24/12/18        03/11/19                    1      1   \n",
       "3      11/06/20             NaN                    2      2   \n",
       "4      11/06/20             NaN                    2      2   \n",
       "\n",
       "   Total Business Value  Quarterly Rating  \n",
       "0               2381060                 2  \n",
       "1               -665480                 2  \n",
       "2                     0                 2  \n",
       "3                     0                 1  \n",
       "4                     0                 1  "
      ]
     },
     "execution_count": 3,
     "metadata": {},
     "output_type": "execute_result"
    }
   ],
   "source": [
    "#check top rows of data\n",
    "data.head()"
   ]
  },
  {
   "cell_type": "code",
   "execution_count": 4,
   "id": "17e21566",
   "metadata": {},
   "outputs": [
    {
     "data": {
      "text/plain": [
       "(19104, 14)"
      ]
     },
     "execution_count": 4,
     "metadata": {},
     "output_type": "execute_result"
    }
   ],
   "source": [
    "#check shape of data\n",
    "data.shape"
   ]
  },
  {
   "cell_type": "code",
   "execution_count": 5,
   "id": "168edd35",
   "metadata": {},
   "outputs": [
    {
     "name": "stdout",
     "output_type": "stream",
     "text": [
      "<class 'pandas.core.frame.DataFrame'>\n",
      "RangeIndex: 19104 entries, 0 to 19103\n",
      "Data columns (total 14 columns):\n",
      " #   Column                Non-Null Count  Dtype  \n",
      "---  ------                --------------  -----  \n",
      " 0   Sr                    19104 non-null  int64  \n",
      " 1   MMM-YY                19104 non-null  object \n",
      " 2   Driver_ID             19104 non-null  int64  \n",
      " 3   Age                   19043 non-null  float64\n",
      " 4   Gender                19052 non-null  float64\n",
      " 5   City                  19104 non-null  object \n",
      " 6   Education_Level       19104 non-null  int64  \n",
      " 7   Income                19104 non-null  int64  \n",
      " 8   Dateofjoining         19104 non-null  object \n",
      " 9   LastWorkingDate       1616 non-null   object \n",
      " 10  Joining Designation   19104 non-null  int64  \n",
      " 11  Grade                 19104 non-null  int64  \n",
      " 12  Total Business Value  19104 non-null  int64  \n",
      " 13  Quarterly Rating      19104 non-null  int64  \n",
      "dtypes: float64(2), int64(8), object(4)\n",
      "memory usage: 2.0+ MB\n"
     ]
    }
   ],
   "source": [
    "# check general information\n",
    "data.info()"
   ]
  },
  {
   "cell_type": "code",
   "execution_count": 6,
   "id": "592c1f84",
   "metadata": {},
   "outputs": [],
   "source": [
    "### convert columns with date such as MMM-yy, Dateofjoining, LastWorkingDate to datetime \n",
    "data['MMM-YY'] = pd.to_datetime(data['MMM-YY'])\n",
    "data['Dateofjoining'] = pd.to_datetime(data['Dateofjoining'])\n",
    "data['LastWorkingDate'] = pd.to_datetime(data['LastWorkingDate'])"
   ]
  },
  {
   "cell_type": "code",
   "execution_count": 7,
   "id": "c0a7cd10",
   "metadata": {},
   "outputs": [
    {
     "name": "stdout",
     "output_type": "stream",
     "text": [
      "<class 'pandas.core.frame.DataFrame'>\n",
      "RangeIndex: 19104 entries, 0 to 19103\n",
      "Data columns (total 14 columns):\n",
      " #   Column                Non-Null Count  Dtype         \n",
      "---  ------                --------------  -----         \n",
      " 0   Sr                    19104 non-null  int64         \n",
      " 1   MMM-YY                19104 non-null  datetime64[ns]\n",
      " 2   Driver_ID             19104 non-null  int64         \n",
      " 3   Age                   19043 non-null  float64       \n",
      " 4   Gender                19052 non-null  float64       \n",
      " 5   City                  19104 non-null  object        \n",
      " 6   Education_Level       19104 non-null  int64         \n",
      " 7   Income                19104 non-null  int64         \n",
      " 8   Dateofjoining         19104 non-null  datetime64[ns]\n",
      " 9   LastWorkingDate       1616 non-null   datetime64[ns]\n",
      " 10  Joining Designation   19104 non-null  int64         \n",
      " 11  Grade                 19104 non-null  int64         \n",
      " 12  Total Business Value  19104 non-null  int64         \n",
      " 13  Quarterly Rating      19104 non-null  int64         \n",
      "dtypes: datetime64[ns](3), float64(2), int64(8), object(1)\n",
      "memory usage: 2.0+ MB\n"
     ]
    }
   ],
   "source": [
    "data.info()"
   ]
  },
  {
   "cell_type": "code",
   "execution_count": 8,
   "id": "816e9670",
   "metadata": {},
   "outputs": [
    {
     "data": {
      "text/plain": [
       "Sr                          0\n",
       "MMM-YY                      0\n",
       "Driver_ID                   0\n",
       "Age                        61\n",
       "Gender                     52\n",
       "City                        0\n",
       "Education_Level             0\n",
       "Income                      0\n",
       "Dateofjoining               0\n",
       "LastWorkingDate         17488\n",
       "Joining Designation         0\n",
       "Grade                       0\n",
       "Total Business Value        0\n",
       "Quarterly Rating            0\n",
       "dtype: int64"
      ]
     },
     "execution_count": 8,
     "metadata": {},
     "output_type": "execute_result"
    }
   ],
   "source": [
    "# get missing values\n",
    "data.isna().sum()"
   ]
  },
  {
   "cell_type": "code",
   "execution_count": 9,
   "id": "06898c8f",
   "metadata": {},
   "outputs": [],
   "source": [
    "### There are many missing values in Total business value colimn but they are represented as 0. let's replace them with na\n",
    "data['Total Business Value'].replace(to_replace=0, value = np.nan, inplace=True)"
   ]
  },
  {
   "cell_type": "code",
   "execution_count": 10,
   "id": "ef24490b",
   "metadata": {},
   "outputs": [
    {
     "data": {
      "text/plain": [
       "Sr                          0\n",
       "MMM-YY                      0\n",
       "Driver_ID                   0\n",
       "Age                        61\n",
       "Gender                     52\n",
       "City                        0\n",
       "Education_Level             0\n",
       "Income                      0\n",
       "Dateofjoining               0\n",
       "LastWorkingDate         17488\n",
       "Joining Designation         0\n",
       "Grade                       0\n",
       "Total Business Value     6499\n",
       "Quarterly Rating            0\n",
       "dtype: int64"
      ]
     },
     "execution_count": 10,
     "metadata": {},
     "output_type": "execute_result"
    }
   ],
   "source": [
    "# get missing values\n",
    "data.isna().sum()"
   ]
  },
  {
   "cell_type": "code",
   "execution_count": 11,
   "id": "49b54edb",
   "metadata": {},
   "outputs": [],
   "source": [
    "# fill missing age and gender \n",
    "data['Age'] = data.groupby('Driver_ID')['Age'].transform(lambda x: x.fillna(x.min()))\n",
    "data['Gender'] = data.groupby('Driver_ID')['Gender'].transform(lambda x: x.fillna(x.min()))"
   ]
  },
  {
   "cell_type": "code",
   "execution_count": 12,
   "id": "d7a1f514",
   "metadata": {},
   "outputs": [
    {
     "data": {
      "text/plain": [
       "(19104, 10)"
      ]
     },
     "execution_count": 12,
     "metadata": {},
     "output_type": "execute_result"
    }
   ],
   "source": [
    "######## let's use KNNImputer to fill missing values\n",
    "## separate numeric columns\n",
    "df_num = data.loc[:,(data.dtypes=='int64')|(data.dtypes=='float64')]\n",
    "df_num.shape"
   ]
  },
  {
   "cell_type": "code",
   "execution_count": 13,
   "id": "7fb79f9c",
   "metadata": {},
   "outputs": [
    {
     "data": {
      "text/plain": [
       "Sr                         0\n",
       "Driver_ID                  0\n",
       "Age                        0\n",
       "Gender                     0\n",
       "Education_Level            0\n",
       "Income                     0\n",
       "Joining Designation        0\n",
       "Grade                      0\n",
       "Total Business Value    6499\n",
       "Quarterly Rating           0\n",
       "dtype: int64"
      ]
     },
     "execution_count": 13,
     "metadata": {},
     "output_type": "execute_result"
    }
   ],
   "source": [
    "df_num.isna().sum()"
   ]
  },
  {
   "cell_type": "code",
   "execution_count": 14,
   "id": "d12c3193",
   "metadata": {},
   "outputs": [
    {
     "data": {
      "text/html": [
       "<div>\n",
       "<style scoped>\n",
       "    .dataframe tbody tr th:only-of-type {\n",
       "        vertical-align: middle;\n",
       "    }\n",
       "\n",
       "    .dataframe tbody tr th {\n",
       "        vertical-align: top;\n",
       "    }\n",
       "\n",
       "    .dataframe thead th {\n",
       "        text-align: right;\n",
       "    }\n",
       "</style>\n",
       "<table border=\"1\" class=\"dataframe\">\n",
       "  <thead>\n",
       "    <tr style=\"text-align: right;\">\n",
       "      <th></th>\n",
       "      <th>Sr</th>\n",
       "      <th>Driver_ID</th>\n",
       "      <th>Age</th>\n",
       "      <th>Gender</th>\n",
       "      <th>Education_Level</th>\n",
       "      <th>Income</th>\n",
       "      <th>Joining Designation</th>\n",
       "      <th>Grade</th>\n",
       "      <th>Total Business Value</th>\n",
       "      <th>Quarterly Rating</th>\n",
       "    </tr>\n",
       "  </thead>\n",
       "  <tbody>\n",
       "    <tr>\n",
       "      <th>0</th>\n",
       "      <td>0</td>\n",
       "      <td>1</td>\n",
       "      <td>28.0</td>\n",
       "      <td>0.0</td>\n",
       "      <td>2</td>\n",
       "      <td>57387</td>\n",
       "      <td>1</td>\n",
       "      <td>1</td>\n",
       "      <td>2381060.0</td>\n",
       "      <td>2</td>\n",
       "    </tr>\n",
       "    <tr>\n",
       "      <th>1</th>\n",
       "      <td>1</td>\n",
       "      <td>1</td>\n",
       "      <td>28.0</td>\n",
       "      <td>0.0</td>\n",
       "      <td>2</td>\n",
       "      <td>57387</td>\n",
       "      <td>1</td>\n",
       "      <td>1</td>\n",
       "      <td>-665480.0</td>\n",
       "      <td>2</td>\n",
       "    </tr>\n",
       "    <tr>\n",
       "      <th>2</th>\n",
       "      <td>2</td>\n",
       "      <td>1</td>\n",
       "      <td>28.0</td>\n",
       "      <td>0.0</td>\n",
       "      <td>2</td>\n",
       "      <td>57387</td>\n",
       "      <td>1</td>\n",
       "      <td>1</td>\n",
       "      <td>NaN</td>\n",
       "      <td>2</td>\n",
       "    </tr>\n",
       "    <tr>\n",
       "      <th>3</th>\n",
       "      <td>3</td>\n",
       "      <td>2</td>\n",
       "      <td>31.0</td>\n",
       "      <td>0.0</td>\n",
       "      <td>2</td>\n",
       "      <td>67016</td>\n",
       "      <td>2</td>\n",
       "      <td>2</td>\n",
       "      <td>NaN</td>\n",
       "      <td>1</td>\n",
       "    </tr>\n",
       "    <tr>\n",
       "      <th>4</th>\n",
       "      <td>4</td>\n",
       "      <td>2</td>\n",
       "      <td>31.0</td>\n",
       "      <td>0.0</td>\n",
       "      <td>2</td>\n",
       "      <td>67016</td>\n",
       "      <td>2</td>\n",
       "      <td>2</td>\n",
       "      <td>NaN</td>\n",
       "      <td>1</td>\n",
       "    </tr>\n",
       "  </tbody>\n",
       "</table>\n",
       "</div>"
      ],
      "text/plain": [
       "   Sr  Driver_ID   Age  Gender  Education_Level  Income  Joining Designation  \\\n",
       "0   0          1  28.0     0.0                2   57387                    1   \n",
       "1   1          1  28.0     0.0                2   57387                    1   \n",
       "2   2          1  28.0     0.0                2   57387                    1   \n",
       "3   3          2  31.0     0.0                2   67016                    2   \n",
       "4   4          2  31.0     0.0                2   67016                    2   \n",
       "\n",
       "   Grade  Total Business Value  Quarterly Rating  \n",
       "0      1             2381060.0                 2  \n",
       "1      1             -665480.0                 2  \n",
       "2      1                   NaN                 2  \n",
       "3      2                   NaN                 1  \n",
       "4      2                   NaN                 1  "
      ]
     },
     "execution_count": 14,
     "metadata": {},
     "output_type": "execute_result"
    }
   ],
   "source": [
    "df_num.head()"
   ]
  },
  {
   "cell_type": "code",
   "execution_count": 15,
   "id": "2cda578f",
   "metadata": {},
   "outputs": [
    {
     "name": "stderr",
     "output_type": "stream",
     "text": [
      "C:\\Users\\Sail\\AppData\\Local\\Temp\\ipykernel_31332\\1554424514.py:1: SettingWithCopyWarning: \n",
      "A value is trying to be set on a copy of a slice from a DataFrame\n",
      "\n",
      "See the caveats in the documentation: https://pandas.pydata.org/pandas-docs/stable/user_guide/indexing.html#returning-a-view-versus-a-copy\n",
      "  df_num.drop(columns='Sr',axis=1,inplace=True)\n"
     ]
    }
   ],
   "source": [
    "df_num.drop(columns='Sr',axis=1,inplace=True)"
   ]
  },
  {
   "cell_type": "code",
   "execution_count": 16,
   "id": "ab186550",
   "metadata": {},
   "outputs": [
    {
     "data": {
      "text/html": [
       "<div>\n",
       "<style scoped>\n",
       "    .dataframe tbody tr th:only-of-type {\n",
       "        vertical-align: middle;\n",
       "    }\n",
       "\n",
       "    .dataframe tbody tr th {\n",
       "        vertical-align: top;\n",
       "    }\n",
       "\n",
       "    .dataframe thead th {\n",
       "        text-align: right;\n",
       "    }\n",
       "</style>\n",
       "<table border=\"1\" class=\"dataframe\">\n",
       "  <thead>\n",
       "    <tr style=\"text-align: right;\">\n",
       "      <th></th>\n",
       "      <th>Driver_ID</th>\n",
       "      <th>Age</th>\n",
       "      <th>Gender</th>\n",
       "      <th>Education_Level</th>\n",
       "      <th>Income</th>\n",
       "      <th>Joining Designation</th>\n",
       "      <th>Grade</th>\n",
       "      <th>Total Business Value</th>\n",
       "      <th>Quarterly Rating</th>\n",
       "    </tr>\n",
       "  </thead>\n",
       "  <tbody>\n",
       "    <tr>\n",
       "      <th>0</th>\n",
       "      <td>1</td>\n",
       "      <td>28.0</td>\n",
       "      <td>0.0</td>\n",
       "      <td>2</td>\n",
       "      <td>57387</td>\n",
       "      <td>1</td>\n",
       "      <td>1</td>\n",
       "      <td>2381060.0</td>\n",
       "      <td>2</td>\n",
       "    </tr>\n",
       "    <tr>\n",
       "      <th>1</th>\n",
       "      <td>1</td>\n",
       "      <td>28.0</td>\n",
       "      <td>0.0</td>\n",
       "      <td>2</td>\n",
       "      <td>57387</td>\n",
       "      <td>1</td>\n",
       "      <td>1</td>\n",
       "      <td>-665480.0</td>\n",
       "      <td>2</td>\n",
       "    </tr>\n",
       "    <tr>\n",
       "      <th>2</th>\n",
       "      <td>1</td>\n",
       "      <td>28.0</td>\n",
       "      <td>0.0</td>\n",
       "      <td>2</td>\n",
       "      <td>57387</td>\n",
       "      <td>1</td>\n",
       "      <td>1</td>\n",
       "      <td>NaN</td>\n",
       "      <td>2</td>\n",
       "    </tr>\n",
       "    <tr>\n",
       "      <th>3</th>\n",
       "      <td>2</td>\n",
       "      <td>31.0</td>\n",
       "      <td>0.0</td>\n",
       "      <td>2</td>\n",
       "      <td>67016</td>\n",
       "      <td>2</td>\n",
       "      <td>2</td>\n",
       "      <td>NaN</td>\n",
       "      <td>1</td>\n",
       "    </tr>\n",
       "    <tr>\n",
       "      <th>4</th>\n",
       "      <td>2</td>\n",
       "      <td>31.0</td>\n",
       "      <td>0.0</td>\n",
       "      <td>2</td>\n",
       "      <td>67016</td>\n",
       "      <td>2</td>\n",
       "      <td>2</td>\n",
       "      <td>NaN</td>\n",
       "      <td>1</td>\n",
       "    </tr>\n",
       "  </tbody>\n",
       "</table>\n",
       "</div>"
      ],
      "text/plain": [
       "   Driver_ID   Age  Gender  Education_Level  Income  Joining Designation  \\\n",
       "0          1  28.0     0.0                2   57387                    1   \n",
       "1          1  28.0     0.0                2   57387                    1   \n",
       "2          1  28.0     0.0                2   57387                    1   \n",
       "3          2  31.0     0.0                2   67016                    2   \n",
       "4          2  31.0     0.0                2   67016                    2   \n",
       "\n",
       "   Grade  Total Business Value  Quarterly Rating  \n",
       "0      1             2381060.0                 2  \n",
       "1      1             -665480.0                 2  \n",
       "2      1                   NaN                 2  \n",
       "3      2                   NaN                 1  \n",
       "4      2                   NaN                 1  "
      ]
     },
     "execution_count": 16,
     "metadata": {},
     "output_type": "execute_result"
    }
   ],
   "source": [
    "df_num.head()"
   ]
  },
  {
   "cell_type": "code",
   "execution_count": 17,
   "id": "cfb97a43",
   "metadata": {},
   "outputs": [],
   "source": [
    "##scaling data as KNN is distance based algorithm\n",
    "Scaler=MinMaxScaler()\n",
    "df_num_scaled = Scaler.fit_transform(df_num)\n",
    "#df_num"
   ]
  },
  {
   "cell_type": "code",
   "execution_count": 18,
   "id": "aa146dab",
   "metadata": {},
   "outputs": [
    {
     "data": {
      "text/html": [
       "<div>\n",
       "<style scoped>\n",
       "    .dataframe tbody tr th:only-of-type {\n",
       "        vertical-align: middle;\n",
       "    }\n",
       "\n",
       "    .dataframe tbody tr th {\n",
       "        vertical-align: top;\n",
       "    }\n",
       "\n",
       "    .dataframe thead th {\n",
       "        text-align: right;\n",
       "    }\n",
       "</style>\n",
       "<table border=\"1\" class=\"dataframe\">\n",
       "  <thead>\n",
       "    <tr style=\"text-align: right;\">\n",
       "      <th></th>\n",
       "      <th>Driver_ID</th>\n",
       "      <th>Age</th>\n",
       "      <th>Gender</th>\n",
       "      <th>Education_Level</th>\n",
       "      <th>Income</th>\n",
       "      <th>Joining Designation</th>\n",
       "      <th>Grade</th>\n",
       "      <th>Total Business Value</th>\n",
       "      <th>Quarterly Rating</th>\n",
       "    </tr>\n",
       "  </thead>\n",
       "  <tbody>\n",
       "    <tr>\n",
       "      <th>0</th>\n",
       "      <td>0.000000</td>\n",
       "      <td>0.189189</td>\n",
       "      <td>0.0</td>\n",
       "      <td>1.0</td>\n",
       "      <td>0.262508</td>\n",
       "      <td>0.00</td>\n",
       "      <td>0.00</td>\n",
       "      <td>0.210856</td>\n",
       "      <td>0.333333</td>\n",
       "    </tr>\n",
       "    <tr>\n",
       "      <th>1</th>\n",
       "      <td>0.000000</td>\n",
       "      <td>0.189189</td>\n",
       "      <td>0.0</td>\n",
       "      <td>1.0</td>\n",
       "      <td>0.262508</td>\n",
       "      <td>0.00</td>\n",
       "      <td>0.00</td>\n",
       "      <td>0.134209</td>\n",
       "      <td>0.333333</td>\n",
       "    </tr>\n",
       "    <tr>\n",
       "      <th>2</th>\n",
       "      <td>0.000000</td>\n",
       "      <td>0.189189</td>\n",
       "      <td>0.0</td>\n",
       "      <td>1.0</td>\n",
       "      <td>0.262508</td>\n",
       "      <td>0.00</td>\n",
       "      <td>0.00</td>\n",
       "      <td>0.165430</td>\n",
       "      <td>0.333333</td>\n",
       "    </tr>\n",
       "    <tr>\n",
       "      <th>3</th>\n",
       "      <td>0.000359</td>\n",
       "      <td>0.270270</td>\n",
       "      <td>0.0</td>\n",
       "      <td>1.0</td>\n",
       "      <td>0.316703</td>\n",
       "      <td>0.25</td>\n",
       "      <td>0.25</td>\n",
       "      <td>0.160332</td>\n",
       "      <td>0.000000</td>\n",
       "    </tr>\n",
       "    <tr>\n",
       "      <th>4</th>\n",
       "      <td>0.000359</td>\n",
       "      <td>0.270270</td>\n",
       "      <td>0.0</td>\n",
       "      <td>1.0</td>\n",
       "      <td>0.316703</td>\n",
       "      <td>0.25</td>\n",
       "      <td>0.25</td>\n",
       "      <td>0.160332</td>\n",
       "      <td>0.000000</td>\n",
       "    </tr>\n",
       "    <tr>\n",
       "      <th>...</th>\n",
       "      <td>...</td>\n",
       "      <td>...</td>\n",
       "      <td>...</td>\n",
       "      <td>...</td>\n",
       "      <td>...</td>\n",
       "      <td>...</td>\n",
       "      <td>...</td>\n",
       "      <td>...</td>\n",
       "      <td>...</td>\n",
       "    </tr>\n",
       "    <tr>\n",
       "      <th>19099</th>\n",
       "      <td>1.000000</td>\n",
       "      <td>0.243243</td>\n",
       "      <td>0.0</td>\n",
       "      <td>1.0</td>\n",
       "      <td>0.334928</td>\n",
       "      <td>0.25</td>\n",
       "      <td>0.25</td>\n",
       "      <td>0.169577</td>\n",
       "      <td>0.666667</td>\n",
       "    </tr>\n",
       "    <tr>\n",
       "      <th>19100</th>\n",
       "      <td>1.000000</td>\n",
       "      <td>0.243243</td>\n",
       "      <td>0.0</td>\n",
       "      <td>1.0</td>\n",
       "      <td>0.334928</td>\n",
       "      <td>0.25</td>\n",
       "      <td>0.25</td>\n",
       "      <td>0.162232</td>\n",
       "      <td>0.666667</td>\n",
       "    </tr>\n",
       "    <tr>\n",
       "      <th>19101</th>\n",
       "      <td>1.000000</td>\n",
       "      <td>0.243243</td>\n",
       "      <td>0.0</td>\n",
       "      <td>1.0</td>\n",
       "      <td>0.334928</td>\n",
       "      <td>0.25</td>\n",
       "      <td>0.25</td>\n",
       "      <td>0.164666</td>\n",
       "      <td>0.333333</td>\n",
       "    </tr>\n",
       "    <tr>\n",
       "      <th>19102</th>\n",
       "      <td>1.000000</td>\n",
       "      <td>0.243243</td>\n",
       "      <td>0.0</td>\n",
       "      <td>1.0</td>\n",
       "      <td>0.334928</td>\n",
       "      <td>0.25</td>\n",
       "      <td>0.25</td>\n",
       "      <td>0.155994</td>\n",
       "      <td>0.333333</td>\n",
       "    </tr>\n",
       "    <tr>\n",
       "      <th>19103</th>\n",
       "      <td>1.000000</td>\n",
       "      <td>0.243243</td>\n",
       "      <td>0.0</td>\n",
       "      <td>1.0</td>\n",
       "      <td>0.334928</td>\n",
       "      <td>0.25</td>\n",
       "      <td>0.25</td>\n",
       "      <td>0.161304</td>\n",
       "      <td>0.333333</td>\n",
       "    </tr>\n",
       "  </tbody>\n",
       "</table>\n",
       "<p>19104 rows × 9 columns</p>\n",
       "</div>"
      ],
      "text/plain": [
       "       Driver_ID       Age  Gender  Education_Level    Income  \\\n",
       "0       0.000000  0.189189     0.0              1.0  0.262508   \n",
       "1       0.000000  0.189189     0.0              1.0  0.262508   \n",
       "2       0.000000  0.189189     0.0              1.0  0.262508   \n",
       "3       0.000359  0.270270     0.0              1.0  0.316703   \n",
       "4       0.000359  0.270270     0.0              1.0  0.316703   \n",
       "...          ...       ...     ...              ...       ...   \n",
       "19099   1.000000  0.243243     0.0              1.0  0.334928   \n",
       "19100   1.000000  0.243243     0.0              1.0  0.334928   \n",
       "19101   1.000000  0.243243     0.0              1.0  0.334928   \n",
       "19102   1.000000  0.243243     0.0              1.0  0.334928   \n",
       "19103   1.000000  0.243243     0.0              1.0  0.334928   \n",
       "\n",
       "       Joining Designation  Grade  Total Business Value  Quarterly Rating  \n",
       "0                     0.00   0.00              0.210856          0.333333  \n",
       "1                     0.00   0.00              0.134209          0.333333  \n",
       "2                     0.00   0.00              0.165430          0.333333  \n",
       "3                     0.25   0.25              0.160332          0.000000  \n",
       "4                     0.25   0.25              0.160332          0.000000  \n",
       "...                    ...    ...                   ...               ...  \n",
       "19099                 0.25   0.25              0.169577          0.666667  \n",
       "19100                 0.25   0.25              0.162232          0.666667  \n",
       "19101                 0.25   0.25              0.164666          0.333333  \n",
       "19102                 0.25   0.25              0.155994          0.333333  \n",
       "19103                 0.25   0.25              0.161304          0.333333  \n",
       "\n",
       "[19104 rows x 9 columns]"
      ]
     },
     "execution_count": 18,
     "metadata": {},
     "output_type": "execute_result"
    }
   ],
   "source": [
    "imputer = KNNImputer(n_neighbors=5)\n",
    "df_num_knn = pd.DataFrame(imputer.fit_transform(df_num_scaled),columns = df_num.columns)\n",
    "df_num_knn"
   ]
  },
  {
   "cell_type": "code",
   "execution_count": 19,
   "id": "977de790",
   "metadata": {},
   "outputs": [
    {
     "data": {
      "text/html": [
       "<div>\n",
       "<style scoped>\n",
       "    .dataframe tbody tr th:only-of-type {\n",
       "        vertical-align: middle;\n",
       "    }\n",
       "\n",
       "    .dataframe tbody tr th {\n",
       "        vertical-align: top;\n",
       "    }\n",
       "\n",
       "    .dataframe thead th {\n",
       "        text-align: right;\n",
       "    }\n",
       "</style>\n",
       "<table border=\"1\" class=\"dataframe\">\n",
       "  <thead>\n",
       "    <tr style=\"text-align: right;\">\n",
       "      <th></th>\n",
       "      <th>Driver_ID</th>\n",
       "      <th>Age</th>\n",
       "      <th>Gender</th>\n",
       "      <th>Education_Level</th>\n",
       "      <th>Income</th>\n",
       "      <th>Joining Designation</th>\n",
       "      <th>Grade</th>\n",
       "      <th>Total Business Value</th>\n",
       "      <th>Quarterly Rating</th>\n",
       "    </tr>\n",
       "  </thead>\n",
       "  <tbody>\n",
       "    <tr>\n",
       "      <th>0</th>\n",
       "      <td>1.0</td>\n",
       "      <td>28.0</td>\n",
       "      <td>0.0</td>\n",
       "      <td>2.0</td>\n",
       "      <td>57387.0</td>\n",
       "      <td>1.0</td>\n",
       "      <td>1.0</td>\n",
       "      <td>2381060.0</td>\n",
       "      <td>2.0</td>\n",
       "    </tr>\n",
       "    <tr>\n",
       "      <th>1</th>\n",
       "      <td>1.0</td>\n",
       "      <td>28.0</td>\n",
       "      <td>0.0</td>\n",
       "      <td>2.0</td>\n",
       "      <td>57387.0</td>\n",
       "      <td>1.0</td>\n",
       "      <td>1.0</td>\n",
       "      <td>-665480.0</td>\n",
       "      <td>2.0</td>\n",
       "    </tr>\n",
       "    <tr>\n",
       "      <th>2</th>\n",
       "      <td>1.0</td>\n",
       "      <td>28.0</td>\n",
       "      <td>0.0</td>\n",
       "      <td>2.0</td>\n",
       "      <td>57387.0</td>\n",
       "      <td>1.0</td>\n",
       "      <td>1.0</td>\n",
       "      <td>575468.0</td>\n",
       "      <td>2.0</td>\n",
       "    </tr>\n",
       "    <tr>\n",
       "      <th>3</th>\n",
       "      <td>2.0</td>\n",
       "      <td>31.0</td>\n",
       "      <td>0.0</td>\n",
       "      <td>2.0</td>\n",
       "      <td>67016.0</td>\n",
       "      <td>2.0</td>\n",
       "      <td>2.0</td>\n",
       "      <td>372850.0</td>\n",
       "      <td>1.0</td>\n",
       "    </tr>\n",
       "    <tr>\n",
       "      <th>4</th>\n",
       "      <td>2.0</td>\n",
       "      <td>31.0</td>\n",
       "      <td>0.0</td>\n",
       "      <td>2.0</td>\n",
       "      <td>67016.0</td>\n",
       "      <td>2.0</td>\n",
       "      <td>2.0</td>\n",
       "      <td>372850.0</td>\n",
       "      <td>1.0</td>\n",
       "    </tr>\n",
       "  </tbody>\n",
       "</table>\n",
       "</div>"
      ],
      "text/plain": [
       "   Driver_ID   Age  Gender  Education_Level   Income  Joining Designation  \\\n",
       "0        1.0  28.0     0.0              2.0  57387.0                  1.0   \n",
       "1        1.0  28.0     0.0              2.0  57387.0                  1.0   \n",
       "2        1.0  28.0     0.0              2.0  57387.0                  1.0   \n",
       "3        2.0  31.0     0.0              2.0  67016.0                  2.0   \n",
       "4        2.0  31.0     0.0              2.0  67016.0                  2.0   \n",
       "\n",
       "   Grade  Total Business Value  Quarterly Rating  \n",
       "0    1.0             2381060.0               2.0  \n",
       "1    1.0             -665480.0               2.0  \n",
       "2    1.0              575468.0               2.0  \n",
       "3    2.0              372850.0               1.0  \n",
       "4    2.0              372850.0               1.0  "
      ]
     },
     "execution_count": 19,
     "metadata": {},
     "output_type": "execute_result"
    }
   ],
   "source": [
    "df_num_1 = pd.DataFrame(Scaler.inverse_transform(df_num_knn),columns=df_num.columns)\n",
    "df_num_1.head()"
   ]
  },
  {
   "cell_type": "code",
   "execution_count": 20,
   "id": "bc74c8c8",
   "metadata": {},
   "outputs": [
    {
     "data": {
      "text/plain": [
       "(19104, 4)"
      ]
     },
     "execution_count": 20,
     "metadata": {},
     "output_type": "execute_result"
    }
   ],
   "source": [
    "df_non_num=data.loc[:,(data.dtypes!='int64')&(data.dtypes!='float64')]\n",
    "df_non_num.shape"
   ]
  },
  {
   "cell_type": "code",
   "execution_count": 21,
   "id": "c639473a",
   "metadata": {},
   "outputs": [
    {
     "data": {
      "text/plain": [
       "(19104, 13)"
      ]
     },
     "execution_count": 21,
     "metadata": {},
     "output_type": "execute_result"
    }
   ],
   "source": [
    "df = pd.concat([df_num_1,df_non_num], axis=1)\n",
    "df.shape"
   ]
  },
  {
   "cell_type": "code",
   "execution_count": 22,
   "id": "448fa981",
   "metadata": {},
   "outputs": [
    {
     "data": {
      "text/html": [
       "<div>\n",
       "<style scoped>\n",
       "    .dataframe tbody tr th:only-of-type {\n",
       "        vertical-align: middle;\n",
       "    }\n",
       "\n",
       "    .dataframe tbody tr th {\n",
       "        vertical-align: top;\n",
       "    }\n",
       "\n",
       "    .dataframe thead th {\n",
       "        text-align: right;\n",
       "    }\n",
       "</style>\n",
       "<table border=\"1\" class=\"dataframe\">\n",
       "  <thead>\n",
       "    <tr style=\"text-align: right;\">\n",
       "      <th></th>\n",
       "      <th>Driver_ID</th>\n",
       "      <th>Age</th>\n",
       "      <th>Gender</th>\n",
       "      <th>Education_Level</th>\n",
       "      <th>Income</th>\n",
       "      <th>Joining Designation</th>\n",
       "      <th>Grade</th>\n",
       "      <th>Total Business Value</th>\n",
       "      <th>Quarterly Rating</th>\n",
       "      <th>MMM-YY</th>\n",
       "      <th>City</th>\n",
       "      <th>Dateofjoining</th>\n",
       "      <th>LastWorkingDate</th>\n",
       "    </tr>\n",
       "  </thead>\n",
       "  <tbody>\n",
       "    <tr>\n",
       "      <th>0</th>\n",
       "      <td>1.0</td>\n",
       "      <td>28.0</td>\n",
       "      <td>0.0</td>\n",
       "      <td>2.0</td>\n",
       "      <td>57387.0</td>\n",
       "      <td>1.0</td>\n",
       "      <td>1.0</td>\n",
       "      <td>2381060.0</td>\n",
       "      <td>2.0</td>\n",
       "      <td>2019-01-01</td>\n",
       "      <td>C23</td>\n",
       "      <td>2018-12-24</td>\n",
       "      <td>NaT</td>\n",
       "    </tr>\n",
       "    <tr>\n",
       "      <th>1</th>\n",
       "      <td>1.0</td>\n",
       "      <td>28.0</td>\n",
       "      <td>0.0</td>\n",
       "      <td>2.0</td>\n",
       "      <td>57387.0</td>\n",
       "      <td>1.0</td>\n",
       "      <td>1.0</td>\n",
       "      <td>-665480.0</td>\n",
       "      <td>2.0</td>\n",
       "      <td>2019-02-01</td>\n",
       "      <td>C23</td>\n",
       "      <td>2018-12-24</td>\n",
       "      <td>NaT</td>\n",
       "    </tr>\n",
       "    <tr>\n",
       "      <th>2</th>\n",
       "      <td>1.0</td>\n",
       "      <td>28.0</td>\n",
       "      <td>0.0</td>\n",
       "      <td>2.0</td>\n",
       "      <td>57387.0</td>\n",
       "      <td>1.0</td>\n",
       "      <td>1.0</td>\n",
       "      <td>575468.0</td>\n",
       "      <td>2.0</td>\n",
       "      <td>2019-03-01</td>\n",
       "      <td>C23</td>\n",
       "      <td>2018-12-24</td>\n",
       "      <td>2019-03-11</td>\n",
       "    </tr>\n",
       "    <tr>\n",
       "      <th>3</th>\n",
       "      <td>2.0</td>\n",
       "      <td>31.0</td>\n",
       "      <td>0.0</td>\n",
       "      <td>2.0</td>\n",
       "      <td>67016.0</td>\n",
       "      <td>2.0</td>\n",
       "      <td>2.0</td>\n",
       "      <td>372850.0</td>\n",
       "      <td>1.0</td>\n",
       "      <td>2020-11-01</td>\n",
       "      <td>C7</td>\n",
       "      <td>2020-11-06</td>\n",
       "      <td>NaT</td>\n",
       "    </tr>\n",
       "    <tr>\n",
       "      <th>4</th>\n",
       "      <td>2.0</td>\n",
       "      <td>31.0</td>\n",
       "      <td>0.0</td>\n",
       "      <td>2.0</td>\n",
       "      <td>67016.0</td>\n",
       "      <td>2.0</td>\n",
       "      <td>2.0</td>\n",
       "      <td>372850.0</td>\n",
       "      <td>1.0</td>\n",
       "      <td>2020-12-01</td>\n",
       "      <td>C7</td>\n",
       "      <td>2020-11-06</td>\n",
       "      <td>NaT</td>\n",
       "    </tr>\n",
       "  </tbody>\n",
       "</table>\n",
       "</div>"
      ],
      "text/plain": [
       "   Driver_ID   Age  Gender  Education_Level   Income  Joining Designation  \\\n",
       "0        1.0  28.0     0.0              2.0  57387.0                  1.0   \n",
       "1        1.0  28.0     0.0              2.0  57387.0                  1.0   \n",
       "2        1.0  28.0     0.0              2.0  57387.0                  1.0   \n",
       "3        2.0  31.0     0.0              2.0  67016.0                  2.0   \n",
       "4        2.0  31.0     0.0              2.0  67016.0                  2.0   \n",
       "\n",
       "   Grade  Total Business Value  Quarterly Rating     MMM-YY City  \\\n",
       "0    1.0             2381060.0               2.0 2019-01-01  C23   \n",
       "1    1.0             -665480.0               2.0 2019-02-01  C23   \n",
       "2    1.0              575468.0               2.0 2019-03-01  C23   \n",
       "3    2.0              372850.0               1.0 2020-11-01   C7   \n",
       "4    2.0              372850.0               1.0 2020-12-01   C7   \n",
       "\n",
       "  Dateofjoining LastWorkingDate  \n",
       "0    2018-12-24             NaT  \n",
       "1    2018-12-24             NaT  \n",
       "2    2018-12-24      2019-03-11  \n",
       "3    2020-11-06             NaT  \n",
       "4    2020-11-06             NaT  "
      ]
     },
     "execution_count": 22,
     "metadata": {},
     "output_type": "execute_result"
    }
   ],
   "source": [
    "df.head()"
   ]
  },
  {
   "cell_type": "code",
   "execution_count": 23,
   "id": "048363be",
   "metadata": {},
   "outputs": [],
   "source": [
    "df_new=df.groupby('Driver_ID')[['Age', 'Gender', 'Education_Level', 'Income',\n",
    "       'Joining Designation', 'Grade', 'Total Business Value',\n",
    "       'Quarterly Rating', 'City', 'Dateofjoining',\n",
    "       'LastWorkingDate']].aggregate(\n",
    "                                        {\n",
    "                                           'Age':'max',\n",
    "                                            'Gender':'max',\n",
    "                                            'Education_Level':'max',\n",
    "                                            'Income':['min','max'],\n",
    "                                            'Joining Designation':'max',\n",
    "                                            'Grade':'max',\n",
    "                                            'Total Business Value':'mean',\n",
    "                                            'Quarterly Rating':['min','max'],\n",
    "                                            'City':pd.Series.mode,\n",
    "                                            'Dateofjoining':'min',\n",
    "                                            'LastWorkingDate':'min'\n",
    "                                            \n",
    "                                        })"
   ]
  },
  {
   "cell_type": "code",
   "execution_count": 24,
   "id": "73073ba8",
   "metadata": {},
   "outputs": [
    {
     "data": {
      "text/html": [
       "<div>\n",
       "<style scoped>\n",
       "    .dataframe tbody tr th:only-of-type {\n",
       "        vertical-align: middle;\n",
       "    }\n",
       "\n",
       "    .dataframe tbody tr th {\n",
       "        vertical-align: top;\n",
       "    }\n",
       "\n",
       "    .dataframe thead tr th {\n",
       "        text-align: left;\n",
       "    }\n",
       "\n",
       "    .dataframe thead tr:last-of-type th {\n",
       "        text-align: right;\n",
       "    }\n",
       "</style>\n",
       "<table border=\"1\" class=\"dataframe\">\n",
       "  <thead>\n",
       "    <tr>\n",
       "      <th></th>\n",
       "      <th>Age</th>\n",
       "      <th>Gender</th>\n",
       "      <th>Education_Level</th>\n",
       "      <th colspan=\"2\" halign=\"left\">Income</th>\n",
       "      <th>Joining Designation</th>\n",
       "      <th>Grade</th>\n",
       "      <th>Total Business Value</th>\n",
       "      <th colspan=\"2\" halign=\"left\">Quarterly Rating</th>\n",
       "      <th>City</th>\n",
       "      <th>Dateofjoining</th>\n",
       "      <th>LastWorkingDate</th>\n",
       "    </tr>\n",
       "    <tr>\n",
       "      <th></th>\n",
       "      <th>max</th>\n",
       "      <th>max</th>\n",
       "      <th>max</th>\n",
       "      <th>min</th>\n",
       "      <th>max</th>\n",
       "      <th>max</th>\n",
       "      <th>max</th>\n",
       "      <th>mean</th>\n",
       "      <th>min</th>\n",
       "      <th>max</th>\n",
       "      <th>mode</th>\n",
       "      <th>min</th>\n",
       "      <th>min</th>\n",
       "    </tr>\n",
       "    <tr>\n",
       "      <th>Driver_ID</th>\n",
       "      <th></th>\n",
       "      <th></th>\n",
       "      <th></th>\n",
       "      <th></th>\n",
       "      <th></th>\n",
       "      <th></th>\n",
       "      <th></th>\n",
       "      <th></th>\n",
       "      <th></th>\n",
       "      <th></th>\n",
       "      <th></th>\n",
       "      <th></th>\n",
       "      <th></th>\n",
       "    </tr>\n",
       "  </thead>\n",
       "  <tbody>\n",
       "    <tr>\n",
       "      <th>1.0</th>\n",
       "      <td>28.0</td>\n",
       "      <td>0.0</td>\n",
       "      <td>2.0</td>\n",
       "      <td>57387.0</td>\n",
       "      <td>57387.0</td>\n",
       "      <td>1.0</td>\n",
       "      <td>1.0</td>\n",
       "      <td>763682.666667</td>\n",
       "      <td>2.0</td>\n",
       "      <td>2.0</td>\n",
       "      <td>C23</td>\n",
       "      <td>2018-12-24</td>\n",
       "      <td>2019-03-11</td>\n",
       "    </tr>\n",
       "    <tr>\n",
       "      <th>2.0</th>\n",
       "      <td>31.0</td>\n",
       "      <td>0.0</td>\n",
       "      <td>2.0</td>\n",
       "      <td>67016.0</td>\n",
       "      <td>67016.0</td>\n",
       "      <td>2.0</td>\n",
       "      <td>2.0</td>\n",
       "      <td>372850.000000</td>\n",
       "      <td>1.0</td>\n",
       "      <td>1.0</td>\n",
       "      <td>C7</td>\n",
       "      <td>2020-11-06</td>\n",
       "      <td>NaT</td>\n",
       "    </tr>\n",
       "    <tr>\n",
       "      <th>4.0</th>\n",
       "      <td>43.0</td>\n",
       "      <td>0.0</td>\n",
       "      <td>2.0</td>\n",
       "      <td>65603.0</td>\n",
       "      <td>65603.0</td>\n",
       "      <td>2.0</td>\n",
       "      <td>2.0</td>\n",
       "      <td>263459.200000</td>\n",
       "      <td>1.0</td>\n",
       "      <td>1.0</td>\n",
       "      <td>C13</td>\n",
       "      <td>2019-12-07</td>\n",
       "      <td>2020-04-27</td>\n",
       "    </tr>\n",
       "    <tr>\n",
       "      <th>5.0</th>\n",
       "      <td>29.0</td>\n",
       "      <td>0.0</td>\n",
       "      <td>0.0</td>\n",
       "      <td>46368.0</td>\n",
       "      <td>46368.0</td>\n",
       "      <td>1.0</td>\n",
       "      <td>1.0</td>\n",
       "      <td>97469.333333</td>\n",
       "      <td>1.0</td>\n",
       "      <td>1.0</td>\n",
       "      <td>C9</td>\n",
       "      <td>2019-01-09</td>\n",
       "      <td>2019-03-07</td>\n",
       "    </tr>\n",
       "    <tr>\n",
       "      <th>6.0</th>\n",
       "      <td>31.0</td>\n",
       "      <td>1.0</td>\n",
       "      <td>1.0</td>\n",
       "      <td>78728.0</td>\n",
       "      <td>78728.0</td>\n",
       "      <td>3.0</td>\n",
       "      <td>3.0</td>\n",
       "      <td>689879.200000</td>\n",
       "      <td>1.0</td>\n",
       "      <td>2.0</td>\n",
       "      <td>C11</td>\n",
       "      <td>2020-07-31</td>\n",
       "      <td>NaT</td>\n",
       "    </tr>\n",
       "  </tbody>\n",
       "</table>\n",
       "</div>"
      ],
      "text/plain": [
       "            Age Gender Education_Level   Income          Joining Designation  \\\n",
       "            max    max             max      min      max                 max   \n",
       "Driver_ID                                                                      \n",
       "1.0        28.0    0.0             2.0  57387.0  57387.0                 1.0   \n",
       "2.0        31.0    0.0             2.0  67016.0  67016.0                 2.0   \n",
       "4.0        43.0    0.0             2.0  65603.0  65603.0                 2.0   \n",
       "5.0        29.0    0.0             0.0  46368.0  46368.0                 1.0   \n",
       "6.0        31.0    1.0             1.0  78728.0  78728.0                 3.0   \n",
       "\n",
       "          Grade Total Business Value Quarterly Rating      City Dateofjoining  \\\n",
       "            max                 mean              min  max mode           min   \n",
       "Driver_ID                                                                       \n",
       "1.0         1.0        763682.666667              2.0  2.0  C23    2018-12-24   \n",
       "2.0         2.0        372850.000000              1.0  1.0   C7    2020-11-06   \n",
       "4.0         2.0        263459.200000              1.0  1.0  C13    2019-12-07   \n",
       "5.0         1.0         97469.333333              1.0  1.0   C9    2019-01-09   \n",
       "6.0         3.0        689879.200000              1.0  2.0  C11    2020-07-31   \n",
       "\n",
       "          LastWorkingDate  \n",
       "                      min  \n",
       "Driver_ID                  \n",
       "1.0            2019-03-11  \n",
       "2.0                   NaT  \n",
       "4.0            2020-04-27  \n",
       "5.0            2019-03-07  \n",
       "6.0                   NaT  "
      ]
     },
     "execution_count": 24,
     "metadata": {},
     "output_type": "execute_result"
    }
   ],
   "source": [
    "df_new.head()"
   ]
  },
  {
   "cell_type": "code",
   "execution_count": 25,
   "id": "8b0e55b1",
   "metadata": {},
   "outputs": [
    {
     "data": {
      "text/plain": [
       "(2381, 13)"
      ]
     },
     "execution_count": 25,
     "metadata": {},
     "output_type": "execute_result"
    }
   ],
   "source": [
    "df_new.shape"
   ]
  },
  {
   "cell_type": "code",
   "execution_count": 26,
   "id": "5d500b60",
   "metadata": {},
   "outputs": [
    {
     "data": {
      "text/plain": [
       "2381"
      ]
     },
     "execution_count": 26,
     "metadata": {},
     "output_type": "execute_result"
    }
   ],
   "source": [
    "data['Driver_ID'].nunique()"
   ]
  },
  {
   "cell_type": "code",
   "execution_count": 27,
   "id": "767a9f95",
   "metadata": {},
   "outputs": [
    {
     "data": {
      "text/plain": [
       "Age                   max       0\n",
       "Gender                max       0\n",
       "Education_Level       max       0\n",
       "Income                min       0\n",
       "                      max       0\n",
       "Joining Designation   max       0\n",
       "Grade                 max       0\n",
       "Total Business Value  mean      0\n",
       "Quarterly Rating      min       0\n",
       "                      max       0\n",
       "City                  mode      0\n",
       "Dateofjoining         min       0\n",
       "LastWorkingDate       min     765\n",
       "dtype: int64"
      ]
     },
     "execution_count": 27,
     "metadata": {},
     "output_type": "execute_result"
    }
   ],
   "source": [
    "df_new.isna().sum()"
   ]
  },
  {
   "cell_type": "code",
   "execution_count": 28,
   "id": "cfbb1ef4",
   "metadata": {},
   "outputs": [
    {
     "data": {
      "text/plain": [
       "MultiIndex([(                 'Age',  'max'),\n",
       "            (              'Gender',  'max'),\n",
       "            (     'Education_Level',  'max'),\n",
       "            (              'Income',  'min'),\n",
       "            (              'Income',  'max'),\n",
       "            ( 'Joining Designation',  'max'),\n",
       "            (               'Grade',  'max'),\n",
       "            ('Total Business Value', 'mean'),\n",
       "            (    'Quarterly Rating',  'min'),\n",
       "            (    'Quarterly Rating',  'max'),\n",
       "            (                'City', 'mode'),\n",
       "            (       'Dateofjoining',  'min'),\n",
       "            (     'LastWorkingDate',  'min')],\n",
       "           )"
      ]
     },
     "execution_count": 28,
     "metadata": {},
     "output_type": "execute_result"
    }
   ],
   "source": [
    "df_new.columns"
   ]
  },
  {
   "cell_type": "code",
   "execution_count": 29,
   "id": "2ba30a64",
   "metadata": {},
   "outputs": [],
   "source": [
    " df_new.columns = [\"_\".join(col) for col in df_new.columns]"
   ]
  },
  {
   "cell_type": "code",
   "execution_count": 30,
   "id": "98646700",
   "metadata": {},
   "outputs": [
    {
     "data": {
      "text/html": [
       "<div>\n",
       "<style scoped>\n",
       "    .dataframe tbody tr th:only-of-type {\n",
       "        vertical-align: middle;\n",
       "    }\n",
       "\n",
       "    .dataframe tbody tr th {\n",
       "        vertical-align: top;\n",
       "    }\n",
       "\n",
       "    .dataframe thead th {\n",
       "        text-align: right;\n",
       "    }\n",
       "</style>\n",
       "<table border=\"1\" class=\"dataframe\">\n",
       "  <thead>\n",
       "    <tr style=\"text-align: right;\">\n",
       "      <th></th>\n",
       "      <th>Age_max</th>\n",
       "      <th>Gender_max</th>\n",
       "      <th>Education_Level_max</th>\n",
       "      <th>Income_min</th>\n",
       "      <th>Income_max</th>\n",
       "      <th>Joining Designation_max</th>\n",
       "      <th>Grade_max</th>\n",
       "      <th>Total Business Value_mean</th>\n",
       "      <th>Quarterly Rating_min</th>\n",
       "      <th>Quarterly Rating_max</th>\n",
       "      <th>City_mode</th>\n",
       "      <th>Dateofjoining_min</th>\n",
       "      <th>LastWorkingDate_min</th>\n",
       "    </tr>\n",
       "    <tr>\n",
       "      <th>Driver_ID</th>\n",
       "      <th></th>\n",
       "      <th></th>\n",
       "      <th></th>\n",
       "      <th></th>\n",
       "      <th></th>\n",
       "      <th></th>\n",
       "      <th></th>\n",
       "      <th></th>\n",
       "      <th></th>\n",
       "      <th></th>\n",
       "      <th></th>\n",
       "      <th></th>\n",
       "      <th></th>\n",
       "    </tr>\n",
       "  </thead>\n",
       "  <tbody>\n",
       "    <tr>\n",
       "      <th>1.0</th>\n",
       "      <td>28.0</td>\n",
       "      <td>0.0</td>\n",
       "      <td>2.0</td>\n",
       "      <td>57387.0</td>\n",
       "      <td>57387.0</td>\n",
       "      <td>1.0</td>\n",
       "      <td>1.0</td>\n",
       "      <td>763682.666667</td>\n",
       "      <td>2.0</td>\n",
       "      <td>2.0</td>\n",
       "      <td>C23</td>\n",
       "      <td>2018-12-24</td>\n",
       "      <td>2019-03-11</td>\n",
       "    </tr>\n",
       "    <tr>\n",
       "      <th>2.0</th>\n",
       "      <td>31.0</td>\n",
       "      <td>0.0</td>\n",
       "      <td>2.0</td>\n",
       "      <td>67016.0</td>\n",
       "      <td>67016.0</td>\n",
       "      <td>2.0</td>\n",
       "      <td>2.0</td>\n",
       "      <td>372850.000000</td>\n",
       "      <td>1.0</td>\n",
       "      <td>1.0</td>\n",
       "      <td>C7</td>\n",
       "      <td>2020-11-06</td>\n",
       "      <td>NaT</td>\n",
       "    </tr>\n",
       "    <tr>\n",
       "      <th>4.0</th>\n",
       "      <td>43.0</td>\n",
       "      <td>0.0</td>\n",
       "      <td>2.0</td>\n",
       "      <td>65603.0</td>\n",
       "      <td>65603.0</td>\n",
       "      <td>2.0</td>\n",
       "      <td>2.0</td>\n",
       "      <td>263459.200000</td>\n",
       "      <td>1.0</td>\n",
       "      <td>1.0</td>\n",
       "      <td>C13</td>\n",
       "      <td>2019-12-07</td>\n",
       "      <td>2020-04-27</td>\n",
       "    </tr>\n",
       "    <tr>\n",
       "      <th>5.0</th>\n",
       "      <td>29.0</td>\n",
       "      <td>0.0</td>\n",
       "      <td>0.0</td>\n",
       "      <td>46368.0</td>\n",
       "      <td>46368.0</td>\n",
       "      <td>1.0</td>\n",
       "      <td>1.0</td>\n",
       "      <td>97469.333333</td>\n",
       "      <td>1.0</td>\n",
       "      <td>1.0</td>\n",
       "      <td>C9</td>\n",
       "      <td>2019-01-09</td>\n",
       "      <td>2019-03-07</td>\n",
       "    </tr>\n",
       "    <tr>\n",
       "      <th>6.0</th>\n",
       "      <td>31.0</td>\n",
       "      <td>1.0</td>\n",
       "      <td>1.0</td>\n",
       "      <td>78728.0</td>\n",
       "      <td>78728.0</td>\n",
       "      <td>3.0</td>\n",
       "      <td>3.0</td>\n",
       "      <td>689879.200000</td>\n",
       "      <td>1.0</td>\n",
       "      <td>2.0</td>\n",
       "      <td>C11</td>\n",
       "      <td>2020-07-31</td>\n",
       "      <td>NaT</td>\n",
       "    </tr>\n",
       "    <tr>\n",
       "      <th>...</th>\n",
       "      <td>...</td>\n",
       "      <td>...</td>\n",
       "      <td>...</td>\n",
       "      <td>...</td>\n",
       "      <td>...</td>\n",
       "      <td>...</td>\n",
       "      <td>...</td>\n",
       "      <td>...</td>\n",
       "      <td>...</td>\n",
       "      <td>...</td>\n",
       "      <td>...</td>\n",
       "      <td>...</td>\n",
       "      <td>...</td>\n",
       "    </tr>\n",
       "    <tr>\n",
       "      <th>2784.0</th>\n",
       "      <td>34.0</td>\n",
       "      <td>0.0</td>\n",
       "      <td>0.0</td>\n",
       "      <td>82815.0</td>\n",
       "      <td>82815.0</td>\n",
       "      <td>2.0</td>\n",
       "      <td>3.0</td>\n",
       "      <td>979357.666667</td>\n",
       "      <td>1.0</td>\n",
       "      <td>4.0</td>\n",
       "      <td>C24</td>\n",
       "      <td>2015-10-15</td>\n",
       "      <td>NaT</td>\n",
       "    </tr>\n",
       "    <tr>\n",
       "      <th>2785.0</th>\n",
       "      <td>34.0</td>\n",
       "      <td>1.0</td>\n",
       "      <td>0.0</td>\n",
       "      <td>12105.0</td>\n",
       "      <td>12105.0</td>\n",
       "      <td>1.0</td>\n",
       "      <td>1.0</td>\n",
       "      <td>46564.000000</td>\n",
       "      <td>1.0</td>\n",
       "      <td>1.0</td>\n",
       "      <td>C9</td>\n",
       "      <td>2020-08-28</td>\n",
       "      <td>2020-10-28</td>\n",
       "    </tr>\n",
       "    <tr>\n",
       "      <th>2786.0</th>\n",
       "      <td>45.0</td>\n",
       "      <td>0.0</td>\n",
       "      <td>0.0</td>\n",
       "      <td>35370.0</td>\n",
       "      <td>35370.0</td>\n",
       "      <td>2.0</td>\n",
       "      <td>2.0</td>\n",
       "      <td>420038.222222</td>\n",
       "      <td>1.0</td>\n",
       "      <td>2.0</td>\n",
       "      <td>C19</td>\n",
       "      <td>2018-07-31</td>\n",
       "      <td>2019-09-22</td>\n",
       "    </tr>\n",
       "    <tr>\n",
       "      <th>2787.0</th>\n",
       "      <td>28.0</td>\n",
       "      <td>1.0</td>\n",
       "      <td>2.0</td>\n",
       "      <td>69498.0</td>\n",
       "      <td>69498.0</td>\n",
       "      <td>1.0</td>\n",
       "      <td>1.0</td>\n",
       "      <td>290744.666667</td>\n",
       "      <td>1.0</td>\n",
       "      <td>2.0</td>\n",
       "      <td>C20</td>\n",
       "      <td>2018-07-21</td>\n",
       "      <td>2019-06-20</td>\n",
       "    </tr>\n",
       "    <tr>\n",
       "      <th>2788.0</th>\n",
       "      <td>30.0</td>\n",
       "      <td>0.0</td>\n",
       "      <td>2.0</td>\n",
       "      <td>70254.0</td>\n",
       "      <td>70254.0</td>\n",
       "      <td>2.0</td>\n",
       "      <td>2.0</td>\n",
       "      <td>424740.000000</td>\n",
       "      <td>1.0</td>\n",
       "      <td>3.0</td>\n",
       "      <td>C27</td>\n",
       "      <td>2020-06-08</td>\n",
       "      <td>NaT</td>\n",
       "    </tr>\n",
       "  </tbody>\n",
       "</table>\n",
       "<p>2381 rows × 13 columns</p>\n",
       "</div>"
      ],
      "text/plain": [
       "           Age_max  Gender_max  Education_Level_max  Income_min  Income_max  \\\n",
       "Driver_ID                                                                     \n",
       "1.0           28.0         0.0                  2.0     57387.0     57387.0   \n",
       "2.0           31.0         0.0                  2.0     67016.0     67016.0   \n",
       "4.0           43.0         0.0                  2.0     65603.0     65603.0   \n",
       "5.0           29.0         0.0                  0.0     46368.0     46368.0   \n",
       "6.0           31.0         1.0                  1.0     78728.0     78728.0   \n",
       "...            ...         ...                  ...         ...         ...   \n",
       "2784.0        34.0         0.0                  0.0     82815.0     82815.0   \n",
       "2785.0        34.0         1.0                  0.0     12105.0     12105.0   \n",
       "2786.0        45.0         0.0                  0.0     35370.0     35370.0   \n",
       "2787.0        28.0         1.0                  2.0     69498.0     69498.0   \n",
       "2788.0        30.0         0.0                  2.0     70254.0     70254.0   \n",
       "\n",
       "           Joining Designation_max  Grade_max  Total Business Value_mean  \\\n",
       "Driver_ID                                                                  \n",
       "1.0                            1.0        1.0              763682.666667   \n",
       "2.0                            2.0        2.0              372850.000000   \n",
       "4.0                            2.0        2.0              263459.200000   \n",
       "5.0                            1.0        1.0               97469.333333   \n",
       "6.0                            3.0        3.0              689879.200000   \n",
       "...                            ...        ...                        ...   \n",
       "2784.0                         2.0        3.0              979357.666667   \n",
       "2785.0                         1.0        1.0               46564.000000   \n",
       "2786.0                         2.0        2.0              420038.222222   \n",
       "2787.0                         1.0        1.0              290744.666667   \n",
       "2788.0                         2.0        2.0              424740.000000   \n",
       "\n",
       "           Quarterly Rating_min  Quarterly Rating_max City_mode  \\\n",
       "Driver_ID                                                         \n",
       "1.0                         2.0                   2.0       C23   \n",
       "2.0                         1.0                   1.0        C7   \n",
       "4.0                         1.0                   1.0       C13   \n",
       "5.0                         1.0                   1.0        C9   \n",
       "6.0                         1.0                   2.0       C11   \n",
       "...                         ...                   ...       ...   \n",
       "2784.0                      1.0                   4.0       C24   \n",
       "2785.0                      1.0                   1.0        C9   \n",
       "2786.0                      1.0                   2.0       C19   \n",
       "2787.0                      1.0                   2.0       C20   \n",
       "2788.0                      1.0                   3.0       C27   \n",
       "\n",
       "          Dateofjoining_min LastWorkingDate_min  \n",
       "Driver_ID                                        \n",
       "1.0              2018-12-24          2019-03-11  \n",
       "2.0              2020-11-06                 NaT  \n",
       "4.0              2019-12-07          2020-04-27  \n",
       "5.0              2019-01-09          2019-03-07  \n",
       "6.0              2020-07-31                 NaT  \n",
       "...                     ...                 ...  \n",
       "2784.0           2015-10-15                 NaT  \n",
       "2785.0           2020-08-28          2020-10-28  \n",
       "2786.0           2018-07-31          2019-09-22  \n",
       "2787.0           2018-07-21          2019-06-20  \n",
       "2788.0           2020-06-08                 NaT  \n",
       "\n",
       "[2381 rows x 13 columns]"
      ]
     },
     "execution_count": 30,
     "metadata": {},
     "output_type": "execute_result"
    }
   ],
   "source": [
    "df_new"
   ]
  },
  {
   "cell_type": "code",
   "execution_count": 31,
   "id": "55eeb3f4",
   "metadata": {},
   "outputs": [
    {
     "data": {
      "text/plain": [
       "Index(['Age_max', 'Gender_max', 'Education_Level_max', 'Income_min',\n",
       "       'Income_max', 'Joining Designation_max', 'Grade_max',\n",
       "       'Total Business Value_mean', 'Quarterly Rating_min',\n",
       "       'Quarterly Rating_max', 'City_mode', 'Dateofjoining_min',\n",
       "       'LastWorkingDate_min'],\n",
       "      dtype='object')"
      ]
     },
     "execution_count": 31,
     "metadata": {},
     "output_type": "execute_result"
    }
   ],
   "source": [
    "df_new.columns"
   ]
  },
  {
   "cell_type": "code",
   "execution_count": 32,
   "id": "812fd9a4",
   "metadata": {},
   "outputs": [],
   "source": [
    "df_new.reset_index(inplace=True)"
   ]
  },
  {
   "cell_type": "code",
   "execution_count": 33,
   "id": "1f671f4c",
   "metadata": {},
   "outputs": [
    {
     "data": {
      "text/html": [
       "<div>\n",
       "<style scoped>\n",
       "    .dataframe tbody tr th:only-of-type {\n",
       "        vertical-align: middle;\n",
       "    }\n",
       "\n",
       "    .dataframe tbody tr th {\n",
       "        vertical-align: top;\n",
       "    }\n",
       "\n",
       "    .dataframe thead th {\n",
       "        text-align: right;\n",
       "    }\n",
       "</style>\n",
       "<table border=\"1\" class=\"dataframe\">\n",
       "  <thead>\n",
       "    <tr style=\"text-align: right;\">\n",
       "      <th></th>\n",
       "      <th>Driver_ID</th>\n",
       "      <th>Age</th>\n",
       "      <th>Gender</th>\n",
       "      <th>Education_Level</th>\n",
       "      <th>Income_min</th>\n",
       "      <th>Income_max</th>\n",
       "      <th>Joining Designation</th>\n",
       "      <th>Grade</th>\n",
       "      <th>Avg Business Value</th>\n",
       "      <th>Quarterly Rating_min</th>\n",
       "      <th>Quarterly Rating_max</th>\n",
       "      <th>City</th>\n",
       "      <th>Dateofjoining</th>\n",
       "      <th>LastWorkingDate</th>\n",
       "    </tr>\n",
       "  </thead>\n",
       "  <tbody>\n",
       "    <tr>\n",
       "      <th>0</th>\n",
       "      <td>1.0</td>\n",
       "      <td>28.0</td>\n",
       "      <td>0.0</td>\n",
       "      <td>2.0</td>\n",
       "      <td>57387.0</td>\n",
       "      <td>57387.0</td>\n",
       "      <td>1.0</td>\n",
       "      <td>1.0</td>\n",
       "      <td>763682.666667</td>\n",
       "      <td>2.0</td>\n",
       "      <td>2.0</td>\n",
       "      <td>C23</td>\n",
       "      <td>2018-12-24</td>\n",
       "      <td>2019-03-11</td>\n",
       "    </tr>\n",
       "    <tr>\n",
       "      <th>1</th>\n",
       "      <td>2.0</td>\n",
       "      <td>31.0</td>\n",
       "      <td>0.0</td>\n",
       "      <td>2.0</td>\n",
       "      <td>67016.0</td>\n",
       "      <td>67016.0</td>\n",
       "      <td>2.0</td>\n",
       "      <td>2.0</td>\n",
       "      <td>372850.000000</td>\n",
       "      <td>1.0</td>\n",
       "      <td>1.0</td>\n",
       "      <td>C7</td>\n",
       "      <td>2020-11-06</td>\n",
       "      <td>NaT</td>\n",
       "    </tr>\n",
       "    <tr>\n",
       "      <th>2</th>\n",
       "      <td>4.0</td>\n",
       "      <td>43.0</td>\n",
       "      <td>0.0</td>\n",
       "      <td>2.0</td>\n",
       "      <td>65603.0</td>\n",
       "      <td>65603.0</td>\n",
       "      <td>2.0</td>\n",
       "      <td>2.0</td>\n",
       "      <td>263459.200000</td>\n",
       "      <td>1.0</td>\n",
       "      <td>1.0</td>\n",
       "      <td>C13</td>\n",
       "      <td>2019-12-07</td>\n",
       "      <td>2020-04-27</td>\n",
       "    </tr>\n",
       "    <tr>\n",
       "      <th>3</th>\n",
       "      <td>5.0</td>\n",
       "      <td>29.0</td>\n",
       "      <td>0.0</td>\n",
       "      <td>0.0</td>\n",
       "      <td>46368.0</td>\n",
       "      <td>46368.0</td>\n",
       "      <td>1.0</td>\n",
       "      <td>1.0</td>\n",
       "      <td>97469.333333</td>\n",
       "      <td>1.0</td>\n",
       "      <td>1.0</td>\n",
       "      <td>C9</td>\n",
       "      <td>2019-01-09</td>\n",
       "      <td>2019-03-07</td>\n",
       "    </tr>\n",
       "    <tr>\n",
       "      <th>4</th>\n",
       "      <td>6.0</td>\n",
       "      <td>31.0</td>\n",
       "      <td>1.0</td>\n",
       "      <td>1.0</td>\n",
       "      <td>78728.0</td>\n",
       "      <td>78728.0</td>\n",
       "      <td>3.0</td>\n",
       "      <td>3.0</td>\n",
       "      <td>689879.200000</td>\n",
       "      <td>1.0</td>\n",
       "      <td>2.0</td>\n",
       "      <td>C11</td>\n",
       "      <td>2020-07-31</td>\n",
       "      <td>NaT</td>\n",
       "    </tr>\n",
       "    <tr>\n",
       "      <th>...</th>\n",
       "      <td>...</td>\n",
       "      <td>...</td>\n",
       "      <td>...</td>\n",
       "      <td>...</td>\n",
       "      <td>...</td>\n",
       "      <td>...</td>\n",
       "      <td>...</td>\n",
       "      <td>...</td>\n",
       "      <td>...</td>\n",
       "      <td>...</td>\n",
       "      <td>...</td>\n",
       "      <td>...</td>\n",
       "      <td>...</td>\n",
       "      <td>...</td>\n",
       "    </tr>\n",
       "    <tr>\n",
       "      <th>2376</th>\n",
       "      <td>2784.0</td>\n",
       "      <td>34.0</td>\n",
       "      <td>0.0</td>\n",
       "      <td>0.0</td>\n",
       "      <td>82815.0</td>\n",
       "      <td>82815.0</td>\n",
       "      <td>2.0</td>\n",
       "      <td>3.0</td>\n",
       "      <td>979357.666667</td>\n",
       "      <td>1.0</td>\n",
       "      <td>4.0</td>\n",
       "      <td>C24</td>\n",
       "      <td>2015-10-15</td>\n",
       "      <td>NaT</td>\n",
       "    </tr>\n",
       "    <tr>\n",
       "      <th>2377</th>\n",
       "      <td>2785.0</td>\n",
       "      <td>34.0</td>\n",
       "      <td>1.0</td>\n",
       "      <td>0.0</td>\n",
       "      <td>12105.0</td>\n",
       "      <td>12105.0</td>\n",
       "      <td>1.0</td>\n",
       "      <td>1.0</td>\n",
       "      <td>46564.000000</td>\n",
       "      <td>1.0</td>\n",
       "      <td>1.0</td>\n",
       "      <td>C9</td>\n",
       "      <td>2020-08-28</td>\n",
       "      <td>2020-10-28</td>\n",
       "    </tr>\n",
       "    <tr>\n",
       "      <th>2378</th>\n",
       "      <td>2786.0</td>\n",
       "      <td>45.0</td>\n",
       "      <td>0.0</td>\n",
       "      <td>0.0</td>\n",
       "      <td>35370.0</td>\n",
       "      <td>35370.0</td>\n",
       "      <td>2.0</td>\n",
       "      <td>2.0</td>\n",
       "      <td>420038.222222</td>\n",
       "      <td>1.0</td>\n",
       "      <td>2.0</td>\n",
       "      <td>C19</td>\n",
       "      <td>2018-07-31</td>\n",
       "      <td>2019-09-22</td>\n",
       "    </tr>\n",
       "    <tr>\n",
       "      <th>2379</th>\n",
       "      <td>2787.0</td>\n",
       "      <td>28.0</td>\n",
       "      <td>1.0</td>\n",
       "      <td>2.0</td>\n",
       "      <td>69498.0</td>\n",
       "      <td>69498.0</td>\n",
       "      <td>1.0</td>\n",
       "      <td>1.0</td>\n",
       "      <td>290744.666667</td>\n",
       "      <td>1.0</td>\n",
       "      <td>2.0</td>\n",
       "      <td>C20</td>\n",
       "      <td>2018-07-21</td>\n",
       "      <td>2019-06-20</td>\n",
       "    </tr>\n",
       "    <tr>\n",
       "      <th>2380</th>\n",
       "      <td>2788.0</td>\n",
       "      <td>30.0</td>\n",
       "      <td>0.0</td>\n",
       "      <td>2.0</td>\n",
       "      <td>70254.0</td>\n",
       "      <td>70254.0</td>\n",
       "      <td>2.0</td>\n",
       "      <td>2.0</td>\n",
       "      <td>424740.000000</td>\n",
       "      <td>1.0</td>\n",
       "      <td>3.0</td>\n",
       "      <td>C27</td>\n",
       "      <td>2020-06-08</td>\n",
       "      <td>NaT</td>\n",
       "    </tr>\n",
       "  </tbody>\n",
       "</table>\n",
       "<p>2381 rows × 14 columns</p>\n",
       "</div>"
      ],
      "text/plain": [
       "      Driver_ID   Age  Gender  Education_Level  Income_min  Income_max  \\\n",
       "0           1.0  28.0     0.0              2.0     57387.0     57387.0   \n",
       "1           2.0  31.0     0.0              2.0     67016.0     67016.0   \n",
       "2           4.0  43.0     0.0              2.0     65603.0     65603.0   \n",
       "3           5.0  29.0     0.0              0.0     46368.0     46368.0   \n",
       "4           6.0  31.0     1.0              1.0     78728.0     78728.0   \n",
       "...         ...   ...     ...              ...         ...         ...   \n",
       "2376     2784.0  34.0     0.0              0.0     82815.0     82815.0   \n",
       "2377     2785.0  34.0     1.0              0.0     12105.0     12105.0   \n",
       "2378     2786.0  45.0     0.0              0.0     35370.0     35370.0   \n",
       "2379     2787.0  28.0     1.0              2.0     69498.0     69498.0   \n",
       "2380     2788.0  30.0     0.0              2.0     70254.0     70254.0   \n",
       "\n",
       "      Joining Designation  Grade  Avg Business Value  Quarterly Rating_min  \\\n",
       "0                     1.0    1.0       763682.666667                   2.0   \n",
       "1                     2.0    2.0       372850.000000                   1.0   \n",
       "2                     2.0    2.0       263459.200000                   1.0   \n",
       "3                     1.0    1.0        97469.333333                   1.0   \n",
       "4                     3.0    3.0       689879.200000                   1.0   \n",
       "...                   ...    ...                 ...                   ...   \n",
       "2376                  2.0    3.0       979357.666667                   1.0   \n",
       "2377                  1.0    1.0        46564.000000                   1.0   \n",
       "2378                  2.0    2.0       420038.222222                   1.0   \n",
       "2379                  1.0    1.0       290744.666667                   1.0   \n",
       "2380                  2.0    2.0       424740.000000                   1.0   \n",
       "\n",
       "      Quarterly Rating_max City Dateofjoining LastWorkingDate  \n",
       "0                      2.0  C23    2018-12-24      2019-03-11  \n",
       "1                      1.0   C7    2020-11-06             NaT  \n",
       "2                      1.0  C13    2019-12-07      2020-04-27  \n",
       "3                      1.0   C9    2019-01-09      2019-03-07  \n",
       "4                      2.0  C11    2020-07-31             NaT  \n",
       "...                    ...  ...           ...             ...  \n",
       "2376                   4.0  C24    2015-10-15             NaT  \n",
       "2377                   1.0   C9    2020-08-28      2020-10-28  \n",
       "2378                   2.0  C19    2018-07-31      2019-09-22  \n",
       "2379                   2.0  C20    2018-07-21      2019-06-20  \n",
       "2380                   3.0  C27    2020-06-08             NaT  \n",
       "\n",
       "[2381 rows x 14 columns]"
      ]
     },
     "execution_count": 33,
     "metadata": {},
     "output_type": "execute_result"
    }
   ],
   "source": [
    "df_new.rename(columns={\n",
    "                'Age_max':'Age',\n",
    "                'Gender_max':'Gender',\n",
    "                'Education_Level_max':'Education_Level',\n",
    "                'Joining Designation_max':'Joining Designation',\n",
    "                'Grade_max':'Grade',\n",
    "                'Total Business Value_mean':'Avg Business Value',\n",
    "                'City_mode':'City',\n",
    "                'Dateofjoining_min':'Dateofjoining',\n",
    "                'LastWorkingDate_min':'LastWorkingDate'\n",
    "                },inplace=True)\n",
    "df_new"
   ]
  },
  {
   "cell_type": "code",
   "execution_count": 34,
   "id": "338b0bdf",
   "metadata": {},
   "outputs": [
    {
     "data": {
      "text/html": [
       "<div>\n",
       "<style scoped>\n",
       "    .dataframe tbody tr th:only-of-type {\n",
       "        vertical-align: middle;\n",
       "    }\n",
       "\n",
       "    .dataframe tbody tr th {\n",
       "        vertical-align: top;\n",
       "    }\n",
       "\n",
       "    .dataframe thead th {\n",
       "        text-align: right;\n",
       "    }\n",
       "</style>\n",
       "<table border=\"1\" class=\"dataframe\">\n",
       "  <thead>\n",
       "    <tr style=\"text-align: right;\">\n",
       "      <th></th>\n",
       "      <th>A</th>\n",
       "      <th>B</th>\n",
       "    </tr>\n",
       "  </thead>\n",
       "  <tbody>\n",
       "    <tr>\n",
       "      <th>0</th>\n",
       "      <td>1</td>\n",
       "      <td>2</td>\n",
       "    </tr>\n",
       "    <tr>\n",
       "      <th>1</th>\n",
       "      <td>2</td>\n",
       "      <td>3</td>\n",
       "    </tr>\n",
       "    <tr>\n",
       "      <th>2</th>\n",
       "      <td>3</td>\n",
       "      <td>4</td>\n",
       "    </tr>\n",
       "    <tr>\n",
       "      <th>3</th>\n",
       "      <td>4</td>\n",
       "      <td>3</td>\n",
       "    </tr>\n",
       "    <tr>\n",
       "      <th>4</th>\n",
       "      <td>5</td>\n",
       "      <td>6</td>\n",
       "    </tr>\n",
       "  </tbody>\n",
       "</table>\n",
       "</div>"
      ],
      "text/plain": [
       "   A  B\n",
       "0  1  2\n",
       "1  2  3\n",
       "2  3  4\n",
       "3  4  3\n",
       "4  5  6"
      ]
     },
     "execution_count": 34,
     "metadata": {},
     "output_type": "execute_result"
    }
   ],
   "source": [
    "d = pd.DataFrame({\n",
    "    'A':[1,2,3,4,5],\n",
    "    'B':[2,3,4,3,6]\n",
    "})\n",
    "d"
   ]
  },
  {
   "cell_type": "code",
   "execution_count": 35,
   "id": "4d1bc009",
   "metadata": {},
   "outputs": [
    {
     "data": {
      "text/plain": [
       "0    1\n",
       "1    2\n",
       "2    3\n",
       "3    0\n",
       "4    5\n",
       "dtype: int64"
      ]
     },
     "execution_count": 35,
     "metadata": {},
     "output_type": "execute_result"
    }
   ],
   "source": [
    "def diff(a):\n",
    "    if a[1]>a[0]:\n",
    "        return a[0]\n",
    "    else:\n",
    "        return 0    \n",
    "d[['A','B']].apply(diff,axis=1)"
   ]
  },
  {
   "cell_type": "code",
   "execution_count": 36,
   "id": "cd636588",
   "metadata": {},
   "outputs": [],
   "source": [
    "def is_increased(col):\n",
    "    if col[0]<col[1]:\n",
    "        return 1\n",
    "    else:\n",
    "        return 0"
   ]
  },
  {
   "cell_type": "code",
   "execution_count": 37,
   "id": "ac838ee0",
   "metadata": {},
   "outputs": [],
   "source": [
    "df_new['Quaterly rating increased'] = df_new[['Quarterly Rating_min','Quarterly Rating_max']].apply(is_increased, axis=1)\n",
    "df_new['Monthy salary increased'] = df_new[['Income_min','Income_max']].apply(is_increased, axis=1)"
   ]
  },
  {
   "cell_type": "code",
   "execution_count": 38,
   "id": "6b036ca7",
   "metadata": {},
   "outputs": [],
   "source": [
    "def is_left(col):\n",
    "    if np.isnat(np.datetime64(str(col[0]))):\n",
    "        return 0\n",
    "    else:\n",
    "        return 1"
   ]
  },
  {
   "cell_type": "code",
   "execution_count": 39,
   "id": "27ca4bcd",
   "metadata": {},
   "outputs": [],
   "source": [
    "## target variable\n",
    "df_new['Is Left'] = df_new[['LastWorkingDate']].apply(is_left, axis=1)"
   ]
  },
  {
   "cell_type": "code",
   "execution_count": 40,
   "id": "6c6bace5",
   "metadata": {},
   "outputs": [
    {
     "data": {
      "text/plain": [
       "1    1616\n",
       "0     765\n",
       "Name: Is Left, dtype: int64"
      ]
     },
     "execution_count": 40,
     "metadata": {},
     "output_type": "execute_result"
    }
   ],
   "source": [
    "df_new['Is Left'].value_counts()"
   ]
  },
  {
   "cell_type": "code",
   "execution_count": 41,
   "id": "07f692d5",
   "metadata": {},
   "outputs": [],
   "source": [
    "df_new.drop(columns=['LastWorkingDate','Quarterly Rating_min', 'Quarterly Rating_max',\n",
    "                     'Income_min','Income_max'],\n",
    "            axis=1,\n",
    "            inplace=True\n",
    "           )"
   ]
  },
  {
   "cell_type": "code",
   "execution_count": 42,
   "id": "0075602b",
   "metadata": {},
   "outputs": [
    {
     "data": {
      "text/plain": [
       "Index(['Driver_ID', 'Age', 'Gender', 'Education_Level', 'Joining Designation',\n",
       "       'Grade', 'Avg Business Value', 'City', 'Dateofjoining',\n",
       "       'Quaterly rating increased', 'Monthy salary increased', 'Is Left'],\n",
       "      dtype='object')"
      ]
     },
     "execution_count": 42,
     "metadata": {},
     "output_type": "execute_result"
    }
   ],
   "source": [
    "df_new.columns"
   ]
  },
  {
   "cell_type": "code",
   "execution_count": 43,
   "id": "29bda5cc",
   "metadata": {},
   "outputs": [
    {
     "data": {
      "text/plain": [
       "(2381, 12)"
      ]
     },
     "execution_count": 43,
     "metadata": {},
     "output_type": "execute_result"
    }
   ],
   "source": [
    "df_new.shape"
   ]
  },
  {
   "cell_type": "code",
   "execution_count": 44,
   "id": "df407a7f",
   "metadata": {},
   "outputs": [
    {
     "data": {
      "text/html": [
       "<div>\n",
       "<style scoped>\n",
       "    .dataframe tbody tr th:only-of-type {\n",
       "        vertical-align: middle;\n",
       "    }\n",
       "\n",
       "    .dataframe tbody tr th {\n",
       "        vertical-align: top;\n",
       "    }\n",
       "\n",
       "    .dataframe thead th {\n",
       "        text-align: right;\n",
       "    }\n",
       "</style>\n",
       "<table border=\"1\" class=\"dataframe\">\n",
       "  <thead>\n",
       "    <tr style=\"text-align: right;\">\n",
       "      <th></th>\n",
       "      <th>Driver_ID</th>\n",
       "      <th>Age</th>\n",
       "      <th>Gender</th>\n",
       "      <th>Education_Level</th>\n",
       "      <th>Joining Designation</th>\n",
       "      <th>Grade</th>\n",
       "      <th>Avg Business Value</th>\n",
       "      <th>City</th>\n",
       "      <th>Dateofjoining</th>\n",
       "      <th>Quaterly rating increased</th>\n",
       "      <th>Monthy salary increased</th>\n",
       "      <th>Is Left</th>\n",
       "    </tr>\n",
       "  </thead>\n",
       "  <tbody>\n",
       "    <tr>\n",
       "      <th>0</th>\n",
       "      <td>1.0</td>\n",
       "      <td>28.0</td>\n",
       "      <td>0.0</td>\n",
       "      <td>2.0</td>\n",
       "      <td>1.0</td>\n",
       "      <td>1.0</td>\n",
       "      <td>763682.666667</td>\n",
       "      <td>C23</td>\n",
       "      <td>2018-12-24</td>\n",
       "      <td>0</td>\n",
       "      <td>0</td>\n",
       "      <td>1</td>\n",
       "    </tr>\n",
       "    <tr>\n",
       "      <th>1</th>\n",
       "      <td>2.0</td>\n",
       "      <td>31.0</td>\n",
       "      <td>0.0</td>\n",
       "      <td>2.0</td>\n",
       "      <td>2.0</td>\n",
       "      <td>2.0</td>\n",
       "      <td>372850.000000</td>\n",
       "      <td>C7</td>\n",
       "      <td>2020-11-06</td>\n",
       "      <td>0</td>\n",
       "      <td>0</td>\n",
       "      <td>0</td>\n",
       "    </tr>\n",
       "    <tr>\n",
       "      <th>2</th>\n",
       "      <td>4.0</td>\n",
       "      <td>43.0</td>\n",
       "      <td>0.0</td>\n",
       "      <td>2.0</td>\n",
       "      <td>2.0</td>\n",
       "      <td>2.0</td>\n",
       "      <td>263459.200000</td>\n",
       "      <td>C13</td>\n",
       "      <td>2019-12-07</td>\n",
       "      <td>0</td>\n",
       "      <td>0</td>\n",
       "      <td>1</td>\n",
       "    </tr>\n",
       "    <tr>\n",
       "      <th>3</th>\n",
       "      <td>5.0</td>\n",
       "      <td>29.0</td>\n",
       "      <td>0.0</td>\n",
       "      <td>0.0</td>\n",
       "      <td>1.0</td>\n",
       "      <td>1.0</td>\n",
       "      <td>97469.333333</td>\n",
       "      <td>C9</td>\n",
       "      <td>2019-01-09</td>\n",
       "      <td>0</td>\n",
       "      <td>0</td>\n",
       "      <td>1</td>\n",
       "    </tr>\n",
       "    <tr>\n",
       "      <th>4</th>\n",
       "      <td>6.0</td>\n",
       "      <td>31.0</td>\n",
       "      <td>1.0</td>\n",
       "      <td>1.0</td>\n",
       "      <td>3.0</td>\n",
       "      <td>3.0</td>\n",
       "      <td>689879.200000</td>\n",
       "      <td>C11</td>\n",
       "      <td>2020-07-31</td>\n",
       "      <td>1</td>\n",
       "      <td>0</td>\n",
       "      <td>0</td>\n",
       "    </tr>\n",
       "  </tbody>\n",
       "</table>\n",
       "</div>"
      ],
      "text/plain": [
       "   Driver_ID   Age  Gender  Education_Level  Joining Designation  Grade  \\\n",
       "0        1.0  28.0     0.0              2.0                  1.0    1.0   \n",
       "1        2.0  31.0     0.0              2.0                  2.0    2.0   \n",
       "2        4.0  43.0     0.0              2.0                  2.0    2.0   \n",
       "3        5.0  29.0     0.0              0.0                  1.0    1.0   \n",
       "4        6.0  31.0     1.0              1.0                  3.0    3.0   \n",
       "\n",
       "   Avg Business Value City Dateofjoining  Quaterly rating increased  \\\n",
       "0       763682.666667  C23    2018-12-24                          0   \n",
       "1       372850.000000   C7    2020-11-06                          0   \n",
       "2       263459.200000  C13    2019-12-07                          0   \n",
       "3        97469.333333   C9    2019-01-09                          0   \n",
       "4       689879.200000  C11    2020-07-31                          1   \n",
       "\n",
       "   Monthy salary increased  Is Left  \n",
       "0                        0        1  \n",
       "1                        0        0  \n",
       "2                        0        1  \n",
       "3                        0        1  \n",
       "4                        0        0  "
      ]
     },
     "execution_count": 44,
     "metadata": {},
     "output_type": "execute_result"
    }
   ],
   "source": [
    "df_new.head()"
   ]
  },
  {
   "cell_type": "code",
   "execution_count": 45,
   "id": "2f50e8c7",
   "metadata": {},
   "outputs": [
    {
     "data": {
      "text/plain": [
       "Driver_ID                    0\n",
       "Age                          0\n",
       "Gender                       0\n",
       "Education_Level              0\n",
       "Joining Designation          0\n",
       "Grade                        0\n",
       "Avg Business Value           0\n",
       "City                         0\n",
       "Dateofjoining                0\n",
       "Quaterly rating increased    0\n",
       "Monthy salary increased      0\n",
       "Is Left                      0\n",
       "dtype: int64"
      ]
     },
     "execution_count": 45,
     "metadata": {},
     "output_type": "execute_result"
    }
   ],
   "source": [
    "df_new.isna().sum()"
   ]
  },
  {
   "cell_type": "code",
   "execution_count": 46,
   "id": "d946c88d",
   "metadata": {},
   "outputs": [
    {
     "data": {
      "text/plain": [
       "<AxesSubplot:>"
      ]
     },
     "execution_count": 46,
     "metadata": {},
     "output_type": "execute_result"
    },
    {
     "data": {
      "image/png": "[encoded data removed]",
      "text/plain": [
       "<Figure size 720x720 with 2 Axes>"
      ]
     },
     "metadata": {
      "needs_background": "light"
     },
     "output_type": "display_data"
    }
   ],
   "source": [
    "plt.figure(figsize=(10,10))\n",
    "sns.heatmap(df_new.corr(),annot=True)"
   ]
  },
  {
   "cell_type": "markdown",
   "id": "6d82a8d8",
   "metadata": {},
   "source": [
    "### There is high correlation between joining designation and grade of drivers  "
   ]
  },
  {
   "cell_type": "code",
   "execution_count": 47,
   "id": "f4201d5c",
   "metadata": {},
   "outputs": [
    {
     "data": {
      "text/plain": [
       "0.0    58.966821\n",
       "1.0    41.033179\n",
       "Name: Gender, dtype: float64"
      ]
     },
     "execution_count": 47,
     "metadata": {},
     "output_type": "execute_result"
    }
   ],
   "source": [
    "df_new['Gender'].value_counts(normalize=True)*100"
   ]
  },
  {
   "cell_type": "markdown",
   "id": "f70cc9a9",
   "metadata": {},
   "source": [
    "#### Almost 40 percent of drivers in OLA are female drivers."
   ]
  },
  {
   "cell_type": "code",
   "execution_count": 48,
   "id": "7f277079",
   "metadata": {},
   "outputs": [
    {
     "data": {
      "text/plain": [
       "<AxesSubplot:xlabel='Gender', ylabel='PCT'>"
      ]
     },
     "execution_count": 48,
     "metadata": {},
     "output_type": "execute_result"
    },
    {
     "data": {
      "image/png": "[encoded data removed]",
      "text/plain": [
       "<Figure size 432x288 with 1 Axes>"
      ]
     },
     "metadata": {
      "needs_background": "light"
     },
     "output_type": "display_data"
    }
   ],
   "source": [
    "df_pct = (df_new.groupby(['Gender'])['Is Left'].value_counts(normalize=True)*100).reset_index(name='PCT')\n",
    "sns.barplot(x='Gender', y='PCT', data=df_pct, hue='Is Left')"
   ]
  },
  {
   "cell_type": "markdown",
   "id": "14d21757",
   "metadata": {},
   "source": [
    "#### Almost same proportion of male and female  drives have left OLA."
   ]
  },
  {
   "cell_type": "code",
   "execution_count": 49,
   "id": "5dc0c523",
   "metadata": {},
   "outputs": [
    {
     "data": {
      "text/plain": [
       "<seaborn.axisgrid.FacetGrid at 0x20d8339b490>"
      ]
     },
     "execution_count": 49,
     "metadata": {},
     "output_type": "execute_result"
    },
    {
     "data": {
      "image/png": "[encoded data removed]",
      "text/plain": [
       "<Figure size 402.375x360 with 1 Axes>"
      ]
     },
     "metadata": {
      "needs_background": "light"
     },
     "output_type": "display_data"
    }
   ],
   "source": [
    "## lets check distribution of age of OLA drivers\n",
    "sns.displot(x='Age', data=df_new, hue='Is Left', kde=True)"
   ]
  },
  {
   "cell_type": "markdown",
   "id": "7c31752b",
   "metadata": {},
   "source": [
    "##### Distribution of age of OLA drivers who left OLA is similar to drivers who did not leave OLA\n",
    "##### Avg age of Drivers is around 34 to 35 years"
   ]
  },
  {
   "cell_type": "code",
   "execution_count": 50,
   "id": "2100b6f1",
   "metadata": {},
   "outputs": [
    {
     "data": {
      "text/plain": [
       "Is Left\n",
       "0    673761.375245\n",
       "1    372617.132465\n",
       "Name: Avg Business Value, dtype: float64"
      ]
     },
     "execution_count": 50,
     "metadata": {},
     "output_type": "execute_result"
    }
   ],
   "source": [
    "## Avg Business Value\n",
    "df_new.groupby(['Is Left'])['Avg Business Value'].mean()"
   ]
  },
  {
   "cell_type": "markdown",
   "id": "3473f313",
   "metadata": {},
   "source": [
    "Avg business value added by drivers who left OLA is almost half the avg business value added by drivers who did now leave OLA"
   ]
  },
  {
   "cell_type": "code",
   "execution_count": 51,
   "id": "357f5874",
   "metadata": {},
   "outputs": [
    {
     "data": {
      "text/html": [
       "<div>\n",
       "<style scoped>\n",
       "    .dataframe tbody tr th:only-of-type {\n",
       "        vertical-align: middle;\n",
       "    }\n",
       "\n",
       "    .dataframe tbody tr th {\n",
       "        vertical-align: top;\n",
       "    }\n",
       "\n",
       "    .dataframe thead th {\n",
       "        text-align: right;\n",
       "    }\n",
       "</style>\n",
       "<table border=\"1\" class=\"dataframe\">\n",
       "  <thead>\n",
       "    <tr style=\"text-align: right;\">\n",
       "      <th></th>\n",
       "      <th>Monthy salary increased</th>\n",
       "      <th>Is Left</th>\n",
       "      <th>PCT</th>\n",
       "    </tr>\n",
       "  </thead>\n",
       "  <tbody>\n",
       "    <tr>\n",
       "      <th>0</th>\n",
       "      <td>0</td>\n",
       "      <td>1</td>\n",
       "      <td>69.020111</td>\n",
       "    </tr>\n",
       "    <tr>\n",
       "      <th>1</th>\n",
       "      <td>0</td>\n",
       "      <td>0</td>\n",
       "      <td>30.979889</td>\n",
       "    </tr>\n",
       "    <tr>\n",
       "      <th>2</th>\n",
       "      <td>1</td>\n",
       "      <td>0</td>\n",
       "      <td>93.181818</td>\n",
       "    </tr>\n",
       "    <tr>\n",
       "      <th>3</th>\n",
       "      <td>1</td>\n",
       "      <td>1</td>\n",
       "      <td>6.818182</td>\n",
       "    </tr>\n",
       "  </tbody>\n",
       "</table>\n",
       "</div>"
      ],
      "text/plain": [
       "   Monthy salary increased  Is Left        PCT\n",
       "0                        0        1  69.020111\n",
       "1                        0        0  30.979889\n",
       "2                        1        0  93.181818\n",
       "3                        1        1   6.818182"
      ]
     },
     "execution_count": 51,
     "metadata": {},
     "output_type": "execute_result"
    },
    {
     "data": {
      "image/png": "[encoded data removed]",
      "text/plain": [
       "<Figure size 432x288 with 1 Axes>"
      ]
     },
     "metadata": {
      "needs_background": "light"
     },
     "output_type": "display_data"
    }
   ],
   "source": [
    "df_pct = (df_new.groupby(['Monthy salary increased'])['Is Left'].value_counts(normalize=True)*100).reset_index(name='PCT')\n",
    "sns.barplot(x='Monthy salary increased', y='PCT', data=df_pct, hue='Is Left')\n",
    "df_pct"
   ]
  },
  {
   "cell_type": "markdown",
   "id": "b744fd0e",
   "metadata": {},
   "source": [
    "70% of drivers whose salary did not increase have left OLA while only 7% with no salary increment left OLA"
   ]
  },
  {
   "cell_type": "code",
   "execution_count": 52,
   "id": "f64dfa39",
   "metadata": {},
   "outputs": [
    {
     "data": {
      "text/html": [
       "<div>\n",
       "<style scoped>\n",
       "    .dataframe tbody tr th:only-of-type {\n",
       "        vertical-align: middle;\n",
       "    }\n",
       "\n",
       "    .dataframe tbody tr th {\n",
       "        vertical-align: top;\n",
       "    }\n",
       "\n",
       "    .dataframe thead th {\n",
       "        text-align: right;\n",
       "    }\n",
       "</style>\n",
       "<table border=\"1\" class=\"dataframe\">\n",
       "  <thead>\n",
       "    <tr style=\"text-align: right;\">\n",
       "      <th></th>\n",
       "      <th>Quaterly rating increased</th>\n",
       "      <th>Is Left</th>\n",
       "      <th>PCT</th>\n",
       "    </tr>\n",
       "  </thead>\n",
       "  <tbody>\n",
       "    <tr>\n",
       "      <th>0</th>\n",
       "      <td>0</td>\n",
       "      <td>1</td>\n",
       "      <td>77.212216</td>\n",
       "    </tr>\n",
       "    <tr>\n",
       "      <th>1</th>\n",
       "      <td>0</td>\n",
       "      <td>0</td>\n",
       "      <td>22.787784</td>\n",
       "    </tr>\n",
       "    <tr>\n",
       "      <th>2</th>\n",
       "      <td>1</td>\n",
       "      <td>1</td>\n",
       "      <td>57.065217</td>\n",
       "    </tr>\n",
       "    <tr>\n",
       "      <th>3</th>\n",
       "      <td>1</td>\n",
       "      <td>0</td>\n",
       "      <td>42.934783</td>\n",
       "    </tr>\n",
       "  </tbody>\n",
       "</table>\n",
       "</div>"
      ],
      "text/plain": [
       "   Quaterly rating increased  Is Left        PCT\n",
       "0                          0        1  77.212216\n",
       "1                          0        0  22.787784\n",
       "2                          1        1  57.065217\n",
       "3                          1        0  42.934783"
      ]
     },
     "execution_count": 52,
     "metadata": {},
     "output_type": "execute_result"
    },
    {
     "data": {
      "image/png": "[encoded data removed]",
      "text/plain": [
       "<Figure size 432x288 with 1 Axes>"
      ]
     },
     "metadata": {
      "needs_background": "light"
     },
     "output_type": "display_data"
    }
   ],
   "source": [
    "df_pct = (df_new.groupby(['Quaterly rating increased'])['Is Left'].value_counts(normalize=True)*100).reset_index(name='PCT')\n",
    "sns.barplot(x='Quaterly rating increased', y='PCT', data=df_pct, hue='Is Left')\n",
    "df_pct"
   ]
  },
  {
   "cell_type": "markdown",
   "id": "378e6a00",
   "metadata": {},
   "source": [
    "77% of drivers with no increase in quaterly rating have left OLA while 43% of drivers with increase in quaterly rating have left OLA"
   ]
  },
  {
   "cell_type": "code",
   "execution_count": 53,
   "id": "5d752c70",
   "metadata": {},
   "outputs": [
    {
     "data": {
      "text/html": [
       "<div>\n",
       "<style scoped>\n",
       "    .dataframe tbody tr th:only-of-type {\n",
       "        vertical-align: middle;\n",
       "    }\n",
       "\n",
       "    .dataframe tbody tr th {\n",
       "        vertical-align: top;\n",
       "    }\n",
       "\n",
       "    .dataframe thead th {\n",
       "        text-align: right;\n",
       "    }\n",
       "</style>\n",
       "<table border=\"1\" class=\"dataframe\">\n",
       "  <thead>\n",
       "    <tr style=\"text-align: right;\">\n",
       "      <th></th>\n",
       "      <th>City</th>\n",
       "      <th>Is Left</th>\n",
       "      <th>PCT</th>\n",
       "    </tr>\n",
       "  </thead>\n",
       "  <tbody>\n",
       "    <tr>\n",
       "      <th>0</th>\n",
       "      <td>C1</td>\n",
       "      <td>1</td>\n",
       "      <td>70.000000</td>\n",
       "    </tr>\n",
       "    <tr>\n",
       "      <th>1</th>\n",
       "      <td>C1</td>\n",
       "      <td>0</td>\n",
       "      <td>30.000000</td>\n",
       "    </tr>\n",
       "    <tr>\n",
       "      <th>2</th>\n",
       "      <td>C10</td>\n",
       "      <td>1</td>\n",
       "      <td>70.930233</td>\n",
       "    </tr>\n",
       "    <tr>\n",
       "      <th>3</th>\n",
       "      <td>C10</td>\n",
       "      <td>0</td>\n",
       "      <td>29.069767</td>\n",
       "    </tr>\n",
       "    <tr>\n",
       "      <th>4</th>\n",
       "      <td>C11</td>\n",
       "      <td>1</td>\n",
       "      <td>70.312500</td>\n",
       "    </tr>\n",
       "    <tr>\n",
       "      <th>5</th>\n",
       "      <td>C11</td>\n",
       "      <td>0</td>\n",
       "      <td>29.687500</td>\n",
       "    </tr>\n",
       "    <tr>\n",
       "      <th>6</th>\n",
       "      <td>C12</td>\n",
       "      <td>1</td>\n",
       "      <td>65.432099</td>\n",
       "    </tr>\n",
       "    <tr>\n",
       "      <th>7</th>\n",
       "      <td>C12</td>\n",
       "      <td>0</td>\n",
       "      <td>34.567901</td>\n",
       "    </tr>\n",
       "    <tr>\n",
       "      <th>8</th>\n",
       "      <td>C13</td>\n",
       "      <td>1</td>\n",
       "      <td>81.690141</td>\n",
       "    </tr>\n",
       "    <tr>\n",
       "      <th>9</th>\n",
       "      <td>C13</td>\n",
       "      <td>0</td>\n",
       "      <td>18.309859</td>\n",
       "    </tr>\n",
       "    <tr>\n",
       "      <th>10</th>\n",
       "      <td>C14</td>\n",
       "      <td>1</td>\n",
       "      <td>73.417722</td>\n",
       "    </tr>\n",
       "    <tr>\n",
       "      <th>11</th>\n",
       "      <td>C14</td>\n",
       "      <td>0</td>\n",
       "      <td>26.582278</td>\n",
       "    </tr>\n",
       "    <tr>\n",
       "      <th>12</th>\n",
       "      <td>C15</td>\n",
       "      <td>1</td>\n",
       "      <td>68.316832</td>\n",
       "    </tr>\n",
       "    <tr>\n",
       "      <th>13</th>\n",
       "      <td>C15</td>\n",
       "      <td>0</td>\n",
       "      <td>31.683168</td>\n",
       "    </tr>\n",
       "    <tr>\n",
       "      <th>14</th>\n",
       "      <td>C16</td>\n",
       "      <td>1</td>\n",
       "      <td>59.523810</td>\n",
       "    </tr>\n",
       "    <tr>\n",
       "      <th>15</th>\n",
       "      <td>C16</td>\n",
       "      <td>0</td>\n",
       "      <td>40.476190</td>\n",
       "    </tr>\n",
       "    <tr>\n",
       "      <th>16</th>\n",
       "      <td>C17</td>\n",
       "      <td>1</td>\n",
       "      <td>77.464789</td>\n",
       "    </tr>\n",
       "    <tr>\n",
       "      <th>17</th>\n",
       "      <td>C17</td>\n",
       "      <td>0</td>\n",
       "      <td>22.535211</td>\n",
       "    </tr>\n",
       "    <tr>\n",
       "      <th>18</th>\n",
       "      <td>C18</td>\n",
       "      <td>1</td>\n",
       "      <td>63.768116</td>\n",
       "    </tr>\n",
       "    <tr>\n",
       "      <th>19</th>\n",
       "      <td>C18</td>\n",
       "      <td>0</td>\n",
       "      <td>36.231884</td>\n",
       "    </tr>\n",
       "    <tr>\n",
       "      <th>20</th>\n",
       "      <td>C19</td>\n",
       "      <td>1</td>\n",
       "      <td>56.944444</td>\n",
       "    </tr>\n",
       "    <tr>\n",
       "      <th>21</th>\n",
       "      <td>C19</td>\n",
       "      <td>0</td>\n",
       "      <td>43.055556</td>\n",
       "    </tr>\n",
       "    <tr>\n",
       "      <th>22</th>\n",
       "      <td>C2</td>\n",
       "      <td>1</td>\n",
       "      <td>76.388889</td>\n",
       "    </tr>\n",
       "    <tr>\n",
       "      <th>23</th>\n",
       "      <td>C2</td>\n",
       "      <td>0</td>\n",
       "      <td>23.611111</td>\n",
       "    </tr>\n",
       "    <tr>\n",
       "      <th>24</th>\n",
       "      <td>C20</td>\n",
       "      <td>1</td>\n",
       "      <td>73.026316</td>\n",
       "    </tr>\n",
       "    <tr>\n",
       "      <th>25</th>\n",
       "      <td>C20</td>\n",
       "      <td>0</td>\n",
       "      <td>26.973684</td>\n",
       "    </tr>\n",
       "    <tr>\n",
       "      <th>26</th>\n",
       "      <td>C21</td>\n",
       "      <td>1</td>\n",
       "      <td>60.759494</td>\n",
       "    </tr>\n",
       "    <tr>\n",
       "      <th>27</th>\n",
       "      <td>C21</td>\n",
       "      <td>0</td>\n",
       "      <td>39.240506</td>\n",
       "    </tr>\n",
       "    <tr>\n",
       "      <th>28</th>\n",
       "      <td>C22</td>\n",
       "      <td>1</td>\n",
       "      <td>60.975610</td>\n",
       "    </tr>\n",
       "    <tr>\n",
       "      <th>29</th>\n",
       "      <td>C22</td>\n",
       "      <td>0</td>\n",
       "      <td>39.024390</td>\n",
       "    </tr>\n",
       "    <tr>\n",
       "      <th>30</th>\n",
       "      <td>C23</td>\n",
       "      <td>1</td>\n",
       "      <td>77.027027</td>\n",
       "    </tr>\n",
       "    <tr>\n",
       "      <th>31</th>\n",
       "      <td>C23</td>\n",
       "      <td>0</td>\n",
       "      <td>22.972973</td>\n",
       "    </tr>\n",
       "    <tr>\n",
       "      <th>32</th>\n",
       "      <td>C24</td>\n",
       "      <td>1</td>\n",
       "      <td>69.863014</td>\n",
       "    </tr>\n",
       "    <tr>\n",
       "      <th>33</th>\n",
       "      <td>C24</td>\n",
       "      <td>0</td>\n",
       "      <td>30.136986</td>\n",
       "    </tr>\n",
       "    <tr>\n",
       "      <th>34</th>\n",
       "      <td>C25</td>\n",
       "      <td>1</td>\n",
       "      <td>72.972973</td>\n",
       "    </tr>\n",
       "    <tr>\n",
       "      <th>35</th>\n",
       "      <td>C25</td>\n",
       "      <td>0</td>\n",
       "      <td>27.027027</td>\n",
       "    </tr>\n",
       "    <tr>\n",
       "      <th>36</th>\n",
       "      <td>C26</td>\n",
       "      <td>1</td>\n",
       "      <td>69.892473</td>\n",
       "    </tr>\n",
       "    <tr>\n",
       "      <th>37</th>\n",
       "      <td>C26</td>\n",
       "      <td>0</td>\n",
       "      <td>30.107527</td>\n",
       "    </tr>\n",
       "    <tr>\n",
       "      <th>38</th>\n",
       "      <td>C27</td>\n",
       "      <td>1</td>\n",
       "      <td>67.415730</td>\n",
       "    </tr>\n",
       "    <tr>\n",
       "      <th>39</th>\n",
       "      <td>C27</td>\n",
       "      <td>0</td>\n",
       "      <td>32.584270</td>\n",
       "    </tr>\n",
       "    <tr>\n",
       "      <th>40</th>\n",
       "      <td>C28</td>\n",
       "      <td>1</td>\n",
       "      <td>71.951220</td>\n",
       "    </tr>\n",
       "    <tr>\n",
       "      <th>41</th>\n",
       "      <td>C28</td>\n",
       "      <td>0</td>\n",
       "      <td>28.048780</td>\n",
       "    </tr>\n",
       "    <tr>\n",
       "      <th>42</th>\n",
       "      <td>C29</td>\n",
       "      <td>1</td>\n",
       "      <td>53.125000</td>\n",
       "    </tr>\n",
       "    <tr>\n",
       "      <th>43</th>\n",
       "      <td>C29</td>\n",
       "      <td>0</td>\n",
       "      <td>46.875000</td>\n",
       "    </tr>\n",
       "    <tr>\n",
       "      <th>44</th>\n",
       "      <td>C3</td>\n",
       "      <td>1</td>\n",
       "      <td>63.414634</td>\n",
       "    </tr>\n",
       "    <tr>\n",
       "      <th>45</th>\n",
       "      <td>C3</td>\n",
       "      <td>0</td>\n",
       "      <td>36.585366</td>\n",
       "    </tr>\n",
       "    <tr>\n",
       "      <th>46</th>\n",
       "      <td>C4</td>\n",
       "      <td>1</td>\n",
       "      <td>67.532468</td>\n",
       "    </tr>\n",
       "    <tr>\n",
       "      <th>47</th>\n",
       "      <td>C4</td>\n",
       "      <td>0</td>\n",
       "      <td>32.467532</td>\n",
       "    </tr>\n",
       "    <tr>\n",
       "      <th>48</th>\n",
       "      <td>C5</td>\n",
       "      <td>1</td>\n",
       "      <td>60.000000</td>\n",
       "    </tr>\n",
       "    <tr>\n",
       "      <th>49</th>\n",
       "      <td>C5</td>\n",
       "      <td>0</td>\n",
       "      <td>40.000000</td>\n",
       "    </tr>\n",
       "    <tr>\n",
       "      <th>50</th>\n",
       "      <td>C6</td>\n",
       "      <td>1</td>\n",
       "      <td>70.512821</td>\n",
       "    </tr>\n",
       "    <tr>\n",
       "      <th>51</th>\n",
       "      <td>C6</td>\n",
       "      <td>0</td>\n",
       "      <td>29.487179</td>\n",
       "    </tr>\n",
       "    <tr>\n",
       "      <th>52</th>\n",
       "      <td>C7</td>\n",
       "      <td>1</td>\n",
       "      <td>68.421053</td>\n",
       "    </tr>\n",
       "    <tr>\n",
       "      <th>53</th>\n",
       "      <td>C7</td>\n",
       "      <td>0</td>\n",
       "      <td>31.578947</td>\n",
       "    </tr>\n",
       "    <tr>\n",
       "      <th>54</th>\n",
       "      <td>C8</td>\n",
       "      <td>1</td>\n",
       "      <td>59.550562</td>\n",
       "    </tr>\n",
       "    <tr>\n",
       "      <th>55</th>\n",
       "      <td>C8</td>\n",
       "      <td>0</td>\n",
       "      <td>40.449438</td>\n",
       "    </tr>\n",
       "    <tr>\n",
       "      <th>56</th>\n",
       "      <td>C9</td>\n",
       "      <td>1</td>\n",
       "      <td>70.666667</td>\n",
       "    </tr>\n",
       "    <tr>\n",
       "      <th>57</th>\n",
       "      <td>C9</td>\n",
       "      <td>0</td>\n",
       "      <td>29.333333</td>\n",
       "    </tr>\n",
       "  </tbody>\n",
       "</table>\n",
       "</div>"
      ],
      "text/plain": [
       "   City  Is Left        PCT\n",
       "0    C1        1  70.000000\n",
       "1    C1        0  30.000000\n",
       "2   C10        1  70.930233\n",
       "3   C10        0  29.069767\n",
       "4   C11        1  70.312500\n",
       "5   C11        0  29.687500\n",
       "6   C12        1  65.432099\n",
       "7   C12        0  34.567901\n",
       "8   C13        1  81.690141\n",
       "9   C13        0  18.309859\n",
       "10  C14        1  73.417722\n",
       "11  C14        0  26.582278\n",
       "12  C15        1  68.316832\n",
       "13  C15        0  31.683168\n",
       "14  C16        1  59.523810\n",
       "15  C16        0  40.476190\n",
       "16  C17        1  77.464789\n",
       "17  C17        0  22.535211\n",
       "18  C18        1  63.768116\n",
       "19  C18        0  36.231884\n",
       "20  C19        1  56.944444\n",
       "21  C19        0  43.055556\n",
       "22   C2        1  76.388889\n",
       "23   C2        0  23.611111\n",
       "24  C20        1  73.026316\n",
       "25  C20        0  26.973684\n",
       "26  C21        1  60.759494\n",
       "27  C21        0  39.240506\n",
       "28  C22        1  60.975610\n",
       "29  C22        0  39.024390\n",
       "30  C23        1  77.027027\n",
       "31  C23        0  22.972973\n",
       "32  C24        1  69.863014\n",
       "33  C24        0  30.136986\n",
       "34  C25        1  72.972973\n",
       "35  C25        0  27.027027\n",
       "36  C26        1  69.892473\n",
       "37  C26        0  30.107527\n",
       "38  C27        1  67.415730\n",
       "39  C27        0  32.584270\n",
       "40  C28        1  71.951220\n",
       "41  C28        0  28.048780\n",
       "42  C29        1  53.125000\n",
       "43  C29        0  46.875000\n",
       "44   C3        1  63.414634\n",
       "45   C3        0  36.585366\n",
       "46   C4        1  67.532468\n",
       "47   C4        0  32.467532\n",
       "48   C5        1  60.000000\n",
       "49   C5        0  40.000000\n",
       "50   C6        1  70.512821\n",
       "51   C6        0  29.487179\n",
       "52   C7        1  68.421053\n",
       "53   C7        0  31.578947\n",
       "54   C8        1  59.550562\n",
       "55   C8        0  40.449438\n",
       "56   C9        1  70.666667\n",
       "57   C9        0  29.333333"
      ]
     },
     "execution_count": 53,
     "metadata": {},
     "output_type": "execute_result"
    },
    {
     "data": {
      "image/png": "[encoded data removed]",
      "text/plain": [
       "<Figure size 720x720 with 1 Axes>"
      ]
     },
     "metadata": {
      "needs_background": "light"
     },
     "output_type": "display_data"
    }
   ],
   "source": [
    "df_pct = (df_new.groupby(['City'])['Is Left'].value_counts(normalize=True)*100).reset_index(name='PCT')\n",
    "plt.figure(figsize=(10,10))\n",
    "sns.barplot(x='City', y='PCT', data=df_pct, hue='Is Left',order=['C'+str(i) for i in range(1,30)])\n",
    "df_pct"
   ]
  },
  {
   "cell_type": "markdown",
   "id": "dd21d6dc",
   "metadata": {},
   "source": [
    "Churning rate is higher in C13"
   ]
  },
  {
   "cell_type": "code",
   "execution_count": 54,
   "id": "e40d7608",
   "metadata": {},
   "outputs": [],
   "source": [
    "# drop Driver ID and date of joining column\n",
    "df_new.drop(columns=['Driver_ID','Dateofjoining'], inplace=True)"
   ]
  },
  {
   "cell_type": "code",
   "execution_count": 55,
   "id": "6e01c4a5",
   "metadata": {},
   "outputs": [
    {
     "data": {
      "text/plain": [
       "(2381, 10)"
      ]
     },
     "execution_count": 55,
     "metadata": {},
     "output_type": "execute_result"
    }
   ],
   "source": [
    "df_new.shape"
   ]
  },
  {
   "cell_type": "code",
   "execution_count": 56,
   "id": "2f22fd6d",
   "metadata": {},
   "outputs": [],
   "source": [
    "# encode categorical feature \n",
    "## using LabelEncoder as we are having 29 differnt city codes in data\n",
    "encoder = LabelEncoder()\n",
    "df_new['City'] = encoder.fit_transform(df_new['City'])"
   ]
  },
  {
   "cell_type": "code",
   "execution_count": 57,
   "id": "900d6813",
   "metadata": {},
   "outputs": [
    {
     "data": {
      "text/html": [
       "<div>\n",
       "<style scoped>\n",
       "    .dataframe tbody tr th:only-of-type {\n",
       "        vertical-align: middle;\n",
       "    }\n",
       "\n",
       "    .dataframe tbody tr th {\n",
       "        vertical-align: top;\n",
       "    }\n",
       "\n",
       "    .dataframe thead th {\n",
       "        text-align: right;\n",
       "    }\n",
       "</style>\n",
       "<table border=\"1\" class=\"dataframe\">\n",
       "  <thead>\n",
       "    <tr style=\"text-align: right;\">\n",
       "      <th></th>\n",
       "      <th>Age</th>\n",
       "      <th>Gender</th>\n",
       "      <th>Education_Level</th>\n",
       "      <th>Joining Designation</th>\n",
       "      <th>Grade</th>\n",
       "      <th>Avg Business Value</th>\n",
       "      <th>City</th>\n",
       "      <th>Quaterly rating increased</th>\n",
       "      <th>Monthy salary increased</th>\n",
       "      <th>Is Left</th>\n",
       "    </tr>\n",
       "  </thead>\n",
       "  <tbody>\n",
       "    <tr>\n",
       "      <th>0</th>\n",
       "      <td>28.0</td>\n",
       "      <td>0.0</td>\n",
       "      <td>2.0</td>\n",
       "      <td>1.0</td>\n",
       "      <td>1.0</td>\n",
       "      <td>763682.666667</td>\n",
       "      <td>15</td>\n",
       "      <td>0</td>\n",
       "      <td>0</td>\n",
       "      <td>1</td>\n",
       "    </tr>\n",
       "    <tr>\n",
       "      <th>1</th>\n",
       "      <td>31.0</td>\n",
       "      <td>0.0</td>\n",
       "      <td>2.0</td>\n",
       "      <td>2.0</td>\n",
       "      <td>2.0</td>\n",
       "      <td>372850.000000</td>\n",
       "      <td>26</td>\n",
       "      <td>0</td>\n",
       "      <td>0</td>\n",
       "      <td>0</td>\n",
       "    </tr>\n",
       "    <tr>\n",
       "      <th>2</th>\n",
       "      <td>43.0</td>\n",
       "      <td>0.0</td>\n",
       "      <td>2.0</td>\n",
       "      <td>2.0</td>\n",
       "      <td>2.0</td>\n",
       "      <td>263459.200000</td>\n",
       "      <td>4</td>\n",
       "      <td>0</td>\n",
       "      <td>0</td>\n",
       "      <td>1</td>\n",
       "    </tr>\n",
       "    <tr>\n",
       "      <th>3</th>\n",
       "      <td>29.0</td>\n",
       "      <td>0.0</td>\n",
       "      <td>0.0</td>\n",
       "      <td>1.0</td>\n",
       "      <td>1.0</td>\n",
       "      <td>97469.333333</td>\n",
       "      <td>28</td>\n",
       "      <td>0</td>\n",
       "      <td>0</td>\n",
       "      <td>1</td>\n",
       "    </tr>\n",
       "    <tr>\n",
       "      <th>4</th>\n",
       "      <td>31.0</td>\n",
       "      <td>1.0</td>\n",
       "      <td>1.0</td>\n",
       "      <td>3.0</td>\n",
       "      <td>3.0</td>\n",
       "      <td>689879.200000</td>\n",
       "      <td>2</td>\n",
       "      <td>1</td>\n",
       "      <td>0</td>\n",
       "      <td>0</td>\n",
       "    </tr>\n",
       "  </tbody>\n",
       "</table>\n",
       "</div>"
      ],
      "text/plain": [
       "    Age  Gender  Education_Level  Joining Designation  Grade  \\\n",
       "0  28.0     0.0              2.0                  1.0    1.0   \n",
       "1  31.0     0.0              2.0                  2.0    2.0   \n",
       "2  43.0     0.0              2.0                  2.0    2.0   \n",
       "3  29.0     0.0              0.0                  1.0    1.0   \n",
       "4  31.0     1.0              1.0                  3.0    3.0   \n",
       "\n",
       "   Avg Business Value  City  Quaterly rating increased  \\\n",
       "0       763682.666667    15                          0   \n",
       "1       372850.000000    26                          0   \n",
       "2       263459.200000     4                          0   \n",
       "3        97469.333333    28                          0   \n",
       "4       689879.200000     2                          1   \n",
       "\n",
       "   Monthy salary increased  Is Left  \n",
       "0                        0        1  \n",
       "1                        0        0  \n",
       "2                        0        1  \n",
       "3                        0        1  \n",
       "4                        0        0  "
      ]
     },
     "execution_count": 57,
     "metadata": {},
     "output_type": "execute_result"
    }
   ],
   "source": [
    "df_new.head()"
   ]
  },
  {
   "cell_type": "code",
   "execution_count": 58,
   "id": "7529aa3c",
   "metadata": {},
   "outputs": [],
   "source": [
    "### Separate predictor and target variables\n",
    "X = df_new.iloc[:,:-1]\n",
    "y = df_new.iloc[:,-1]"
   ]
  },
  {
   "cell_type": "code",
   "execution_count": 59,
   "id": "b3e00aaf",
   "metadata": {},
   "outputs": [],
   "source": [
    "### Split train and test data\n",
    "X_train, X_test, y_train, y_test = train_test_split(X, y, test_size=0.2, random_state=43)"
   ]
  },
  {
   "cell_type": "code",
   "execution_count": 60,
   "id": "897ce47f",
   "metadata": {},
   "outputs": [],
   "source": [
    "## intialise RandomForest\n",
    "RF = RandomForestClassifier(class_weight=\"balanced_subsample\")"
   ]
  },
  {
   "cell_type": "code",
   "execution_count": 61,
   "id": "88262b02",
   "metadata": {},
   "outputs": [
    {
     "name": "stdout",
     "output_type": "stream",
     "text": [
      "{'n_estimators': [200, 400, 600, 800, 1000, 1200, 1400, 1600, 1800, 2000], 'max_features': ['auto', 'sqrt'], 'max_depth': [10, 20, 30, 40, 50, 60, 70, 80, 90, 100, 110, None], 'min_samples_split': [2, 5, 10], 'min_samples_leaf': [1, 2, 4], 'bootstrap': [True, False]}\n"
     ]
    }
   ],
   "source": [
    "from sklearn.model_selection import RandomizedSearchCV\n",
    "# Number of trees in random forest\n",
    "n_estimators = [int(x) for x in np.linspace(start = 200, stop = 2000, num = 10)]\n",
    "# Number of features to consider at every split\n",
    "max_features = ['auto', 'sqrt']\n",
    "# Maximum number of levels in tree\n",
    "max_depth = [int(x) for x in np.linspace(10, 110, num = 11)]\n",
    "max_depth.append(None)\n",
    "# Minimum number of samples required to split a node\n",
    "min_samples_split = [2, 5, 10]\n",
    "# Minimum number of samples required at each leaf node\n",
    "min_samples_leaf = [1, 2, 4]\n",
    "# Method of selecting samples for training each tree\n",
    "bootstrap = [True, False]\n",
    "# Create the random grid\n",
    "random_grid = {'n_estimators': n_estimators,\n",
    "               'max_features': max_features,\n",
    "               'max_depth': max_depth,\n",
    "               'min_samples_split': min_samples_split,\n",
    "               'min_samples_leaf': min_samples_leaf,\n",
    "               'bootstrap': bootstrap}\n",
    "print(random_grid)"
   ]
  },
  {
   "cell_type": "code",
   "execution_count": 62,
   "id": "e4e94204",
   "metadata": {},
   "outputs": [],
   "source": [
    "rf_random = RandomizedSearchCV(estimator = RF, param_distributions = random_grid, n_iter = 100, cv = 4, verbose=2, random_state=41, n_jobs = -1)"
   ]
  },
  {
   "cell_type": "code",
   "execution_count": 63,
   "id": "16386aa0",
   "metadata": {},
   "outputs": [
    {
     "name": "stdout",
     "output_type": "stream",
     "text": [
      "Fitting 4 folds for each of 100 candidates, totalling 400 fits\n"
     ]
    },
    {
     "data": {
      "text/plain": [
       "RandomizedSearchCV(cv=4,\n",
       "                   estimator=RandomForestClassifier(class_weight='balanced_subsample'),\n",
       "                   n_iter=100, n_jobs=-1,\n",
       "                   param_distributions={'bootstrap': [True, False],\n",
       "                                        'max_depth': [10, 20, 30, 40, 50, 60,\n",
       "                                                      70, 80, 90, 100, 110,\n",
       "                                                      None],\n",
       "                                        'max_features': ['auto', 'sqrt'],\n",
       "                                        'min_samples_leaf': [1, 2, 4],\n",
       "                                        'min_samples_split': [2, 5, 10],\n",
       "                                        'n_estimators': [200, 400, 600, 800,\n",
       "                                                         1000, 1200, 1400, 1600,\n",
       "                                                         1800, 2000]},\n",
       "                   random_state=41, verbose=2)"
      ]
     },
     "execution_count": 63,
     "metadata": {},
     "output_type": "execute_result"
    }
   ],
   "source": [
    "rf_random.fit(X_train, y_train)"
   ]
  },
  {
   "cell_type": "code",
   "execution_count": 64,
   "id": "c8443ea4",
   "metadata": {},
   "outputs": [
    {
     "data": {
      "text/plain": [
       "{'n_estimators': 800,\n",
       " 'min_samples_split': 10,\n",
       " 'min_samples_leaf': 4,\n",
       " 'max_features': 'auto',\n",
       " 'max_depth': 40,\n",
       " 'bootstrap': True}"
      ]
     },
     "execution_count": 64,
     "metadata": {},
     "output_type": "execute_result"
    }
   ],
   "source": [
    "#check best parameters\n",
    "rf_random.best_params_"
   ]
  },
  {
   "cell_type": "code",
   "execution_count": 65,
   "id": "d92729ab",
   "metadata": {},
   "outputs": [
    {
     "data": {
      "text/plain": [
       "0.7111344537815126"
      ]
     },
     "execution_count": 65,
     "metadata": {},
     "output_type": "execute_result"
    }
   ],
   "source": [
    "#check best score\n",
    "rf_random.best_score_"
   ]
  },
  {
   "cell_type": "code",
   "execution_count": 66,
   "id": "5a38edbc",
   "metadata": {},
   "outputs": [
    {
     "data": {
      "text/plain": [
       "RandomForestClassifier(class_weight='balanced_subsample', max_depth=40,\n",
       "                       min_samples_leaf=4, min_samples_split=10,\n",
       "                       n_estimators=800)"
      ]
     },
     "execution_count": 66,
     "metadata": {},
     "output_type": "execute_result"
    }
   ],
   "source": [
    "rf_random.best_estimator_"
   ]
  },
  {
   "cell_type": "code",
   "execution_count": 67,
   "id": "9233e0d0",
   "metadata": {},
   "outputs": [
    {
     "name": "stdout",
     "output_type": "stream",
     "text": [
      "Accuracy:0.7316561844863732\n"
     ]
    }
   ],
   "source": [
    "Y_pred = rf_random.predict(X_test)\n",
    "print(f'Accuracy:{accuracy_score(y_test, Y_pred)}')"
   ]
  },
  {
   "cell_type": "markdown",
   "id": "9cde220a",
   "metadata": {},
   "source": [
    "We get a accuracy of 0.72 in Random Forest"
   ]
  },
  {
   "cell_type": "code",
   "execution_count": 68,
   "id": "35ad7961",
   "metadata": {},
   "outputs": [
    {
     "name": "stdout",
     "output_type": "stream",
     "text": [
      "              precision    recall  f1-score   support\n",
      "\n",
      "           0       0.58      0.63      0.61       156\n",
      "           1       0.81      0.78      0.80       321\n",
      "\n",
      "    accuracy                           0.73       477\n",
      "   macro avg       0.70      0.71      0.70       477\n",
      "weighted avg       0.74      0.73      0.73       477\n",
      "\n"
     ]
    }
   ],
   "source": [
    "###Let's check other classification metrics\n",
    "print(classification_report(y_test, Y_pred))"
   ]
  },
  {
   "cell_type": "code",
   "execution_count": 69,
   "id": "909f172c",
   "metadata": {},
   "outputs": [
    {
     "name": "stdout",
     "output_type": "stream",
     "text": [
      "[[ 99  57]\n",
      " [ 71 250]]\n"
     ]
    },
    {
     "data": {
      "text/plain": [
       "<sklearn.metrics._plot.confusion_matrix.ConfusionMatrixDisplay at 0x20d8354fd30>"
      ]
     },
     "execution_count": 69,
     "metadata": {},
     "output_type": "execute_result"
    },
    {
     "data": {
      "image/png": "[encoded data removed]",
      "text/plain": [
       "<Figure size 432x288 with 2 Axes>"
      ]
     },
     "metadata": {
      "needs_background": "light"
     },
     "output_type": "display_data"
    }
   ],
   "source": [
    "cm1=confusion_matrix(y_test,Y_pred)\n",
    "print(cm1)\n",
    "disp = ConfusionMatrixDisplay(cm1,\n",
    "                           display_labels=rf_random.classes_)\n",
    "disp.plot()"
   ]
  },
  {
   "cell_type": "code",
   "execution_count": 70,
   "id": "7fa819ac",
   "metadata": {},
   "outputs": [],
   "source": [
    "y_prob = rf_random.predict_proba(X_test)\n",
    "y_prob = y_prob[:, 1]"
   ]
  },
  {
   "cell_type": "code",
   "execution_count": 71,
   "id": "dcf39d47",
   "metadata": {},
   "outputs": [
    {
     "data": {
      "text/plain": [
       "<sklearn.metrics._plot.roc_curve.RocCurveDisplay at 0x20d8791e920>"
      ]
     },
     "execution_count": 71,
     "metadata": {},
     "output_type": "execute_result"
    },
    {
     "data": {
      "image/png": "[encoded data removed]",
      "text/plain": [
       "<Figure size 432x288 with 1 Axes>"
      ]
     },
     "metadata": {
      "needs_background": "light"
     },
     "output_type": "display_data"
    }
   ],
   "source": [
    "RocCurveDisplay.from_predictions(y_test, y_prob)"
   ]
  },
  {
   "cell_type": "markdown",
   "id": "3aeed138",
   "metadata": {},
   "source": [
    "We are getting recall 0.78 using Random Forest. In order to increase recall we can decrease the threshold for Positive class i.e we can select probability threshold of less than 0.5 such that it will not impact precision drastically.  "
   ]
  },
  {
   "cell_type": "code",
   "execution_count": 72,
   "id": "5545a8b5",
   "metadata": {},
   "outputs": [
    {
     "data": {
      "text/plain": [
       "<sklearn.metrics._plot.precision_recall_curve.PrecisionRecallDisplay at 0x20d834e4b50>"
      ]
     },
     "execution_count": 72,
     "metadata": {},
     "output_type": "execute_result"
    },
    {
     "data": {
      "image/png": "[encoded data removed]",
      "text/plain": [
       "<Figure size 432x288 with 1 Axes>"
      ]
     },
     "metadata": {
      "needs_background": "light"
     },
     "output_type": "display_data"
    }
   ],
   "source": [
    "PrecisionRecallDisplay.from_predictions(y_test, y_prob)"
   ]
  },
  {
   "cell_type": "code",
   "execution_count": 73,
   "id": "a6720101",
   "metadata": {},
   "outputs": [],
   "source": [
    "###check feature importances \n",
    "## initialze Random forest with best params\n",
    "RFC = RandomForestClassifier(class_weight='balanced_subsample', max_depth=60,\n",
    "                       min_samples_leaf=4, min_samples_split=5,\n",
    "                       n_estimators=200)"
   ]
  },
  {
   "cell_type": "code",
   "execution_count": 74,
   "id": "58f9314b",
   "metadata": {},
   "outputs": [
    {
     "data": {
      "text/plain": [
       "RandomForestClassifier(class_weight='balanced_subsample', max_depth=60,\n",
       "                       min_samples_leaf=4, min_samples_split=5,\n",
       "                       n_estimators=200)"
      ]
     },
     "execution_count": 74,
     "metadata": {},
     "output_type": "execute_result"
    }
   ],
   "source": [
    "#train model\n",
    "RFC.fit(X_train, y_train)"
   ]
  },
  {
   "cell_type": "code",
   "execution_count": 75,
   "id": "7ddf4c45",
   "metadata": {},
   "outputs": [
    {
     "data": {
      "text/plain": [
       "<BarContainer object of 9 artists>"
      ]
     },
     "execution_count": 75,
     "metadata": {},
     "output_type": "execute_result"
    },
    {
     "data": {
      "image/png": "[encoded data removed]",
      "text/plain": [
       "<Figure size 432x288 with 1 Axes>"
      ]
     },
     "metadata": {
      "needs_background": "light"
     },
     "output_type": "display_data"
    }
   ],
   "source": [
    "## check feature importance\n",
    "plt.barh(RFC.feature_names_in_, RFC.feature_importances_)"
   ]
  },
  {
   "cell_type": "markdown",
   "id": "c1396e55",
   "metadata": {},
   "source": [
    "From above graph we can see that Avg Business Value is the most important feature and Monthly Salary Increase is the least important features as per Random Forest algorithm"
   ]
  },
  {
   "cell_type": "code",
   "execution_count": 76,
   "id": "31b76bc5",
   "metadata": {},
   "outputs": [],
   "source": [
    "### Let's try boosting technique to improve accuracy\n",
    "## first address class imbalanced using SMOTE\n",
    "from imblearn.over_sampling import SMOTE\n",
    "sm=SMOTE(random_state=42)\n",
    "X_train_res,y_train_res=sm.fit_resample(X_train,y_train.ravel())"
   ]
  },
  {
   "cell_type": "code",
   "execution_count": 77,
   "id": "b8b5a77a",
   "metadata": {},
   "outputs": [
    {
     "name": "stdout",
     "output_type": "stream",
     "text": [
      "After OverSampling, the shape of train_X: (2590, 9)\n",
      "After OverSampling, the shape of train_y: (2590,) \n",
      "\n",
      "After OverSampling, counts of label '1': 1295\n",
      "After OverSampling, counts of label '0': 1295\n"
     ]
    }
   ],
   "source": [
    "print('After OverSampling, the shape of train_X: {}'.format(X_train_res.shape))\n",
    "print('After OverSampling, the shape of train_y: {} \\n'.format(y_train_res.shape))\n",
    "  \n",
    "print(\"After OverSampling, counts of label '1': {}\".format(sum(y_train_res == 1)))\n",
    "print(\"After OverSampling, counts of label '0': {}\".format(sum(y_train_res == 0)))"
   ]
  },
  {
   "cell_type": "code",
   "execution_count": 78,
   "id": "e533d41c",
   "metadata": {},
   "outputs": [
    {
     "name": "stdout",
     "output_type": "stream",
     "text": [
      "{'n_estimators': [200, 400, 600, 800, 1000, 1200, 1400, 1600, 1800, 2000], 'max_features': ['auto', 'sqrt'], 'max_depth': [1, 2, 3, 4, 5, 6, 7, 8, 9, 10, None], 'min_samples_split': [2, 5, 10], 'min_samples_leaf': [1, 2, 4], 'learning_rate': [0.01, 0.05, 0.1, 0.15]}\n"
     ]
    }
   ],
   "source": [
    "from sklearn.model_selection import RandomizedSearchCV\n",
    "# Number of trees in random forest\n",
    "n_estimators = [int(x) for x in np.linspace(start = 200, stop = 2000, num = 10)]\n",
    "# Number of features to consider at every split\n",
    "max_features = ['auto', 'sqrt']\n",
    "# Maximum number of levels in tree\n",
    "max_depth = [int(x) for x in np.linspace(1, 10, num = 10)]\n",
    "max_depth.append(None)\n",
    "# Minimum number of samples required to split a node\n",
    "min_samples_split = [2, 5, 10]\n",
    "# Minimum number of samples required at each leaf node\n",
    "min_samples_leaf = [1, 2, 4]\n",
    "#learning rate: contribution of each node to output\n",
    "learning_rate = [0.01,0.05,0.1, 0.15]\n",
    "# Create the random grid\n",
    "random_grid = {'n_estimators': n_estimators,\n",
    "               'max_features': max_features,\n",
    "               'max_depth': max_depth,\n",
    "               'min_samples_split': min_samples_split,\n",
    "               'min_samples_leaf': min_samples_leaf,\n",
    "               'learning_rate': learning_rate}\n",
    "print(random_grid)"
   ]
  },
  {
   "cell_type": "code",
   "execution_count": 79,
   "id": "a7fbd659",
   "metadata": {},
   "outputs": [],
   "source": [
    "#initialize gradient boosting model\n",
    "gbc = GradientBoostingClassifier()"
   ]
  },
  {
   "cell_type": "code",
   "execution_count": 80,
   "id": "8ea5439c",
   "metadata": {},
   "outputs": [],
   "source": [
    "## initialize random search CV to find best parameters\n",
    "gbc_random = RandomizedSearchCV(estimator = gbc, param_distributions = random_grid, n_iter = 100, cv = 4, verbose=2, random_state=41, n_jobs = -1)"
   ]
  },
  {
   "cell_type": "code",
   "execution_count": 81,
   "id": "7b3ad900",
   "metadata": {},
   "outputs": [
    {
     "name": "stdout",
     "output_type": "stream",
     "text": [
      "Fitting 4 folds for each of 100 candidates, totalling 400 fits\n"
     ]
    },
    {
     "data": {
      "text/plain": [
       "RandomizedSearchCV(cv=4, estimator=GradientBoostingClassifier(), n_iter=100,\n",
       "                   n_jobs=-1,\n",
       "                   param_distributions={'learning_rate': [0.01, 0.05, 0.1,\n",
       "                                                          0.15],\n",
       "                                        'max_depth': [1, 2, 3, 4, 5, 6, 7, 8, 9,\n",
       "                                                      10, None],\n",
       "                                        'max_features': ['auto', 'sqrt'],\n",
       "                                        'min_samples_leaf': [1, 2, 4],\n",
       "                                        'min_samples_split': [2, 5, 10],\n",
       "                                        'n_estimators': [200, 400, 600, 800,\n",
       "                                                         1000, 1200, 1400, 1600,\n",
       "                                                         1800, 2000]},\n",
       "                   random_state=41, verbose=2)"
      ]
     },
     "execution_count": 81,
     "metadata": {},
     "output_type": "execute_result"
    }
   ],
   "source": [
    "gbc_random.fit(X_train_res,y_train_res)"
   ]
  },
  {
   "cell_type": "code",
   "execution_count": 82,
   "id": "2b4101fb",
   "metadata": {},
   "outputs": [
    {
     "data": {
      "text/plain": [
       "{'n_estimators': 600,\n",
       " 'min_samples_split': 10,\n",
       " 'min_samples_leaf': 4,\n",
       " 'max_features': 'sqrt',\n",
       " 'max_depth': 8,\n",
       " 'learning_rate': 0.01}"
      ]
     },
     "execution_count": 82,
     "metadata": {},
     "output_type": "execute_result"
    }
   ],
   "source": [
    "gbc_random.best_params_"
   ]
  },
  {
   "cell_type": "code",
   "execution_count": 83,
   "id": "ac66bab3",
   "metadata": {},
   "outputs": [
    {
     "data": {
      "text/plain": [
       "0.7645680681969966"
      ]
     },
     "execution_count": 83,
     "metadata": {},
     "output_type": "execute_result"
    }
   ],
   "source": [
    "gbc_random.best_score_"
   ]
  },
  {
   "cell_type": "code",
   "execution_count": 84,
   "id": "6e2ba310",
   "metadata": {},
   "outputs": [
    {
     "name": "stdout",
     "output_type": "stream",
     "text": [
      "Accuracy:0.740041928721174\n"
     ]
    }
   ],
   "source": [
    "Y_pred = gbc_random.predict(X_test)\n",
    "print(f'Accuracy:{accuracy_score(y_test, Y_pred)}')"
   ]
  },
  {
   "cell_type": "markdown",
   "id": "daddd71b",
   "metadata": {},
   "source": [
    "We can observe a slight improvement in accuracy with respect to Random Forest accuracy"
   ]
  },
  {
   "cell_type": "code",
   "execution_count": 85,
   "id": "13fd8d07",
   "metadata": {},
   "outputs": [
    {
     "name": "stdout",
     "output_type": "stream",
     "text": [
      "[[ 79  77]\n",
      " [ 47 274]]\n"
     ]
    },
    {
     "data": {
      "text/plain": [
       "<sklearn.metrics._plot.confusion_matrix.ConfusionMatrixDisplay at 0x20d89dc98a0>"
      ]
     },
     "execution_count": 85,
     "metadata": {},
     "output_type": "execute_result"
    },
    {
     "data": {
      "image/png": "[encoded data removed]",
      "text/plain": [
       "<Figure size 432x288 with 2 Axes>"
      ]
     },
     "metadata": {
      "needs_background": "light"
     },
     "output_type": "display_data"
    }
   ],
   "source": [
    "cm1=confusion_matrix(y_test,Y_pred)\n",
    "print(cm1)\n",
    "disp = ConfusionMatrixDisplay(cm1,\n",
    "                           display_labels=rf_random.classes_)\n",
    "disp.plot()"
   ]
  },
  {
   "cell_type": "code",
   "execution_count": 86,
   "id": "7eba7e19",
   "metadata": {},
   "outputs": [
    {
     "name": "stdout",
     "output_type": "stream",
     "text": [
      "              precision    recall  f1-score   support\n",
      "\n",
      "           0       0.63      0.51      0.56       156\n",
      "           1       0.78      0.85      0.82       321\n",
      "\n",
      "    accuracy                           0.74       477\n",
      "   macro avg       0.70      0.68      0.69       477\n",
      "weighted avg       0.73      0.74      0.73       477\n",
      "\n"
     ]
    }
   ],
   "source": [
    "###Let's check other classification metrics\n",
    "print(classification_report(y_test, Y_pred))"
   ]
  },
  {
   "cell_type": "markdown",
   "id": "e257cbbd",
   "metadata": {},
   "source": [
    "We can see that recall has increased significantly from 0.78 to 0.88"
   ]
  },
  {
   "cell_type": "code",
   "execution_count": 87,
   "id": "da8bb3d6",
   "metadata": {},
   "outputs": [],
   "source": [
    "y_prob = gbc_random.predict_proba(X_test)\n",
    "y_prob = y_prob[:, 1]"
   ]
  },
  {
   "cell_type": "code",
   "execution_count": 88,
   "id": "ff16ad9d",
   "metadata": {},
   "outputs": [
    {
     "data": {
      "text/plain": [
       "<sklearn.metrics._plot.roc_curve.RocCurveDisplay at 0x20d8797d1b0>"
      ]
     },
     "execution_count": 88,
     "metadata": {},
     "output_type": "execute_result"
    },
    {
     "data": {
      "image/png": "[encoded data removed]",
      "text/plain": [
       "<Figure size 432x288 with 1 Axes>"
      ]
     },
     "metadata": {
      "needs_background": "light"
     },
     "output_type": "display_data"
    }
   ],
   "source": [
    "## pLot ROC curve\n",
    "RocCurveDisplay.from_predictions(y_test, y_prob)"
   ]
  },
  {
   "cell_type": "code",
   "execution_count": 89,
   "id": "ec2d3efd",
   "metadata": {},
   "outputs": [
    {
     "data": {
      "text/plain": [
       "<sklearn.metrics._plot.precision_recall_curve.PrecisionRecallDisplay at 0x20d89e24a90>"
      ]
     },
     "execution_count": 89,
     "metadata": {},
     "output_type": "execute_result"
    },
    {
     "data": {
      "image/png": "[encoded data removed]",
      "text/plain": [
       "<Figure size 432x288 with 1 Axes>"
      ]
     },
     "metadata": {
      "needs_background": "light"
     },
     "output_type": "display_data"
    }
   ],
   "source": [
    "PrecisionRecallDisplay.from_predictions(y_test, y_prob)"
   ]
  },
  {
   "cell_type": "code",
   "execution_count": 90,
   "id": "3a097aa0",
   "metadata": {},
   "outputs": [],
   "source": [
    "## let's check feature importance\n",
    "## initialize model with best params\n",
    "gb = GradientBoostingClassifier(n_estimators= 600,\n",
    " min_samples_split= 10,\n",
    " min_samples_leaf= 4,\n",
    " max_features= 'sqrt',\n",
    " max_depth= 5,\n",
    " learning_rate= 0.01)"
   ]
  },
  {
   "cell_type": "code",
   "execution_count": 91,
   "id": "5b54766c",
   "metadata": {},
   "outputs": [
    {
     "data": {
      "text/plain": [
       "GradientBoostingClassifier(learning_rate=0.01, max_depth=5, max_features='sqrt',\n",
       "                           min_samples_leaf=4, min_samples_split=10,\n",
       "                           n_estimators=600)"
      ]
     },
     "execution_count": 91,
     "metadata": {},
     "output_type": "execute_result"
    }
   ],
   "source": [
    "gb.fit(X_train_res,y_train_res)"
   ]
  },
  {
   "cell_type": "code",
   "execution_count": 92,
   "id": "6575246e",
   "metadata": {},
   "outputs": [
    {
     "data": {
      "text/plain": [
       "<BarContainer object of 9 artists>"
      ]
     },
     "execution_count": 92,
     "metadata": {},
     "output_type": "execute_result"
    },
    {
     "data": {
      "image/png": "[encoded data removed]",
      "text/plain": [
       "<Figure size 432x288 with 1 Axes>"
      ]
     },
     "metadata": {
      "needs_background": "light"
     },
     "output_type": "display_data"
    }
   ],
   "source": [
    "## check feature importance\n",
    "plt.barh(gb.feature_names_in_, gb.feature_importances_)"
   ]
  },
  {
   "cell_type": "markdown",
   "id": "4169d61a",
   "metadata": {},
   "source": [
    "From above graph we can see that Avg Business Value is the most important feature and Monthly Salary Increase and Quaterly rating increase are the least important features as per GB algorithm"
   ]
  },
  {
   "cell_type": "markdown",
   "id": "e15b317e",
   "metadata": {},
   "source": [
    "Recommendations\n",
    "1. As Avg Business Value is most important feature in order to decide whether driver will leave or not, OLA can keep watch at drivers who are adding the most  business value.\n",
    "2. OLA can give incentives to drivers who are adding the most business value so that they will not leave the company\n",
    "3. Drivers in age group 30-40 have higher probability of leaving company, OLA can give more salary to drivers in this age group so that they will stay longer with company"
   ]
  },
  {
   "cell_type": "code",
   "execution_count": null,
   "id": "b51f1222",
   "metadata": {},
   "outputs": [],
   "source": []
  }
 ],
 "metadata": {
  "kernelspec": {
   "display_name": "Python 3 (ipykernel)",
   "language": "python",
   "name": "python3"
  },
  "language_info": {
   "codemirror_mode": {
    "name": "ipython",
    "version": 3
   },
   "file_extension": ".py",
   "mimetype": "text/x-python",
   "name": "python",
   "nbconvert_exporter": "python",
   "pygments_lexer": "ipython3",
   "version": "3.10.5"
  }
 },
 "nbformat": 4,
 "nbformat_minor": 5
}

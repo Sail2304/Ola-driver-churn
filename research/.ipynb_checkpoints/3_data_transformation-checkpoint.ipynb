{
 "cells": [
  {
   "cell_type": "code",
   "execution_count": 1,
   "metadata": {},
   "outputs": [],
   "source": [
    "import os"
   ]
  },
  {
   "cell_type": "code",
   "execution_count": 2,
   "metadata": {},
   "outputs": [
    {
     "data": {
      "text/plain": [
       "'D:\\\\Scaler Course\\\\OLACaseStudy\\\\Ola-driver-churn\\\\research'"
      ]
     },
     "execution_count": 2,
     "metadata": {},
     "output_type": "execute_result"
    }
   ],
   "source": [
    "%pwd"
   ]
  },
  {
   "cell_type": "code",
   "execution_count": 3,
   "metadata": {},
   "outputs": [],
   "source": [
    "os.chdir('../')"
   ]
  },
  {
   "cell_type": "code",
   "execution_count": 4,
   "metadata": {},
   "outputs": [],
   "source": [
    "from dataclasses import dataclass\n",
    "from pathlib import Path\n",
    "\n",
    "@dataclass\n",
    "class DataTransormationConfig:\n",
    "    root_dir: Path\n",
    "    data_path: Path\n",
    "\n"
   ]
  },
  {
   "cell_type": "code",
   "execution_count": 5,
   "metadata": {},
   "outputs": [],
   "source": [
    "from src.OLAChurnPred.constants import *\n",
    "from src.OLAChurnPred.utils.common import read_yaml, create_directories\n",
    "class ConfigurationManager:\n",
    "    def __init__(self,\n",
    "                 config_filepath=CONFIG_FILE_PATH,\n",
    "                 params_filepath=PARAMS_FILE_PATH,\n",
    "                 schema_filepath = SCHEMA_FILE_PATH):\n",
    "        \n",
    "        self.config=read_yaml(config_filepath)\n",
    "        self.params = read_yaml(params_filepath)\n",
    "        self.schema = read_yaml(schema_filepath)\n",
    "\n",
    "        create_directories([self.config.artifacts_root])\n",
    "\n",
    "    def get_data_transformation_config(self) -> DataTransormationConfig:\n",
    "        config = self.config.data_transformation\n",
    "        create_directories([config.root_dir])\n",
    "\n",
    "        data_transformation_config = DataTransormationConfig(\n",
    "            root_dir=config.root_dir,\n",
    "            data_path = config.data_path\n",
    "        )\n",
    "\n",
    "        return data_transformation_config\n"
   ]
  },
  {
   "cell_type": "code",
   "execution_count": 6,
   "metadata": {},
   "outputs": [],
   "source": [
    "import os\n",
    "from src.OLAChurnPred import logger\n",
    "from sklearn.model_selection import train_test_split\n",
    "import pandas as pd\n",
    "from src.OLAChurnPred.utils.data_transformation_utils import *\n",
    "from src.OLAChurnPred.utils.common import save_bin\n",
    "from sklearn.preprocessing import OneHotEncoder"
   ]
  },
  {
   "cell_type": "code",
   "execution_count": 7,
   "metadata": {},
   "outputs": [],
   "source": [
    "class DataTransormation:\n",
    "    def __init__(self, config: DataTransormationConfig):\n",
    "        self.config = config\n",
    "\n",
    "    def transform(self):\n",
    "        try:\n",
    "            data = pd.read_csv(self.config.data_path)\n",
    "            data = change_data_types(data)\n",
    "            data = missing_value_imputation(data)\n",
    "            data = group_transform_data(data)\n",
    "            return data\n",
    "        except Exception as e:\n",
    "            raise e\n",
    "        \n",
    "    def train_test_splitting(self, data):\n",
    "        train,test = train_test_split(data, test_size=0.20)\n",
    "\n",
    "        test.to_csv(os.path.join(self.config.root_dir,\"test.csv\"),index=False)\n",
    "        return train, test\n",
    "    \n",
    "    def feature_encoding(self, data):\n",
    "        ohe = OneHotEncoder(drop='first')\n",
    "        encoding = ohe.fit_transform(data['City'].values.reshape(-1,1))\n",
    "        print(encoding.toarray(), encoding.get_feature_names_out())\n",
    "        # df_enc = pd.DataFrame(data=encoding.toarray(), columns=encoding.get_feature_names_out())\n",
    "        # data = pd.concat([data,df_enc], axis=1)\n",
    "        # data.drop(columns=['City'], inplace=True)\n",
    "\n",
    "        # save_bin(ohe, os.path.join(self.config.root_dir,'ohe.joblib'))\n",
    "        # data.to_csv(os.path.join(self.config.root_dir,\"train.csv\"))\n",
    "\n",
    "\n"
   ]
  },
  {
   "cell_type": "code",
   "execution_count": 8,
   "metadata": {},
   "outputs": [
    {
     "name": "stdout",
     "output_type": "stream",
     "text": [
      "[2024-12-11 22:45:38,940: INFO: common: yaml file: config\\config.yaml loaded successfully]\n",
      "[2024-12-11 22:45:38,945: INFO: common: yaml file: params.yaml loaded successfully]\n",
      "[2024-12-11 22:45:38,948: INFO: common: yaml file: schema.yaml loaded successfully]\n",
      "[2024-12-11 22:45:38,950: INFO: common: created directory at: artifacts]\n",
      "[2024-12-11 22:45:38,951: INFO: common: created directory at: artifacts/data_transformation]\n"
     ]
    },
    {
     "name": "stderr",
     "output_type": "stream",
     "text": [
      "D:\\Scaler Course\\OLACaseStudy\\Ola-driver-churn\\src\\OLAChurnPred\\utils\\data_transformation_utils.py:15: FutureWarning: A value is trying to be set on a copy of a DataFrame or Series through chained assignment using an inplace method.\n",
      "The behavior will change in pandas 3.0. This inplace method will never work because the intermediate object on which we are setting values always behaves as a copy.\n",
      "\n",
      "For example, when doing 'df[col].method(value, inplace=True)', try using 'df.method({col: value}, inplace=True)' or df[col] = df[col].method(value) instead, to perform the operation inplace on the original object.\n",
      "\n",
      "\n",
      "  data['Total Business Value'].replace(to_replace=0, value = np.nan, inplace=True)\n",
      "D:\\Scaler Course\\OLACaseStudy\\Ola-driver-churn\\src\\OLAChurnPred\\utils\\data_transformation_utils.py:23: SettingWithCopyWarning: \n",
      "A value is trying to be set on a copy of a slice from a DataFrame\n",
      "\n",
      "See the caveats in the documentation: https://pandas.pydata.org/pandas-docs/stable/user_guide/indexing.html#returning-a-view-versus-a-copy\n",
      "  df_num.drop(columns='Sr',axis=1,inplace=True)\n",
      "D:\\Scaler Course\\OLACaseStudy\\Ola-driver-churn\\src\\OLAChurnPred\\utils\\data_transformation_utils.py:48: FutureWarning: The 'axis' keyword in DataFrame.groupby is deprecated and will be removed in a future version.\n",
      "  df1['Age'] = list(df.groupby('Driver_ID',axis=0).max('MMM-YY')['Age'])\n",
      "D:\\Scaler Course\\OLACaseStudy\\Ola-driver-churn\\src\\OLAChurnPred\\utils\\data_transformation_utils.py:55: FutureWarning: The 'axis' keyword in DataFrame.groupby is deprecated and will be removed in a future version.\n",
      "  df1['Total_Business_Value'] = list(df.groupby('Driver_ID',axis=0).sum('Total Business Value')['Total Business Value'])\n"
     ]
    },
    {
     "ename": "AttributeError",
     "evalue": "'csr_matrix' object has no attribute 'get_feature_names_out'",
     "output_type": "error",
     "traceback": [
      "\u001b[1;31m---------------------------------------------------------------------------\u001b[0m",
      "\u001b[1;31mAttributeError\u001b[0m                            Traceback (most recent call last)",
      "Cell \u001b[1;32mIn[8], line 9\u001b[0m\n\u001b[0;32m      7\u001b[0m     data_transformation\u001b[38;5;241m.\u001b[39mfeature_encoding(train)\n\u001b[0;32m      8\u001b[0m \u001b[38;5;28;01mexcept\u001b[39;00m \u001b[38;5;167;01mException\u001b[39;00m \u001b[38;5;28;01mas\u001b[39;00m e:\n\u001b[1;32m----> 9\u001b[0m     \u001b[38;5;28;01mraise\u001b[39;00m e\n",
      "Cell \u001b[1;32mIn[8], line 7\u001b[0m\n\u001b[0;32m      5\u001b[0m     data \u001b[38;5;241m=\u001b[39m data_transformation\u001b[38;5;241m.\u001b[39mtransform()\n\u001b[0;32m      6\u001b[0m     train, test \u001b[38;5;241m=\u001b[39m data_transformation\u001b[38;5;241m.\u001b[39mtrain_test_splitting(data)\n\u001b[1;32m----> 7\u001b[0m     \u001b[43mdata_transformation\u001b[49m\u001b[38;5;241;43m.\u001b[39;49m\u001b[43mfeature_encoding\u001b[49m\u001b[43m(\u001b[49m\u001b[43mtrain\u001b[49m\u001b[43m)\u001b[49m\n\u001b[0;32m      8\u001b[0m \u001b[38;5;28;01mexcept\u001b[39;00m \u001b[38;5;167;01mException\u001b[39;00m \u001b[38;5;28;01mas\u001b[39;00m e:\n\u001b[0;32m      9\u001b[0m     \u001b[38;5;28;01mraise\u001b[39;00m e\n",
      "Cell \u001b[1;32mIn[7], line 24\u001b[0m, in \u001b[0;36mDataTransormation.feature_encoding\u001b[1;34m(self, data)\u001b[0m\n\u001b[0;32m     22\u001b[0m ohe \u001b[38;5;241m=\u001b[39m OneHotEncoder(drop\u001b[38;5;241m=\u001b[39m\u001b[38;5;124m'\u001b[39m\u001b[38;5;124mfirst\u001b[39m\u001b[38;5;124m'\u001b[39m)\n\u001b[0;32m     23\u001b[0m encoding \u001b[38;5;241m=\u001b[39m ohe\u001b[38;5;241m.\u001b[39mfit_transform(data[\u001b[38;5;124m'\u001b[39m\u001b[38;5;124mCity\u001b[39m\u001b[38;5;124m'\u001b[39m]\u001b[38;5;241m.\u001b[39mvalues\u001b[38;5;241m.\u001b[39mreshape(\u001b[38;5;241m-\u001b[39m\u001b[38;5;241m1\u001b[39m,\u001b[38;5;241m1\u001b[39m))\n\u001b[1;32m---> 24\u001b[0m \u001b[38;5;28mprint\u001b[39m(encoding\u001b[38;5;241m.\u001b[39mtoarray(), \u001b[43mencoding\u001b[49m\u001b[38;5;241;43m.\u001b[39;49m\u001b[43mget_feature_names_out\u001b[49m())\n",
      "\u001b[1;31mAttributeError\u001b[0m: 'csr_matrix' object has no attribute 'get_feature_names_out'"
     ]
    }
   ],
   "source": [
    "try:\n",
    "    config = ConfigurationManager()\n",
    "    data_transformation_config = config.get_data_transformation_config()\n",
    "    data_transformation = DataTransormation(config=data_transformation_config) \n",
    "    data = data_transformation.transform()\n",
    "    train, test = data_transformation.train_test_splitting(data)\n",
    "    data_transformation.feature_encoding(train)\n",
    "except Exception as e:\n",
    "    raise e"
   ]
  },
  {
   "cell_type": "code",
   "execution_count": null,
   "metadata": {},
   "outputs": [],
   "source": []
  }
 ],
 "metadata": {
  "kernelspec": {
   "display_name": "Python 3 (ipykernel)",
   "language": "python",
   "name": "python3"
  },
  "language_info": {
   "codemirror_mode": {
    "name": "ipython",
    "version": 3
   },
   "file_extension": ".py",
   "mimetype": "text/x-python",
   "name": "python",
   "nbconvert_exporter": "python",
   "pygments_lexer": "ipython3",
   "version": "3.10.5"
  }
 },
 "nbformat": 4,
 "nbformat_minor": 4
}
